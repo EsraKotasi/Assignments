{
 "cells": [
  {
   "cell_type": "markdown",
   "metadata": {},
   "source": [
    "<p style=\"text-align: center;\"><img src=\"https://docs.google.com/uc?id=1lY0Uj5R04yMY3-ZppPWxqCr5pvBLYPnV\" class=\"img-fluid\" \n",
    "alt=\"CLRSWY\"></p>\n",
    "\n",
    "## <p style=\"background-color:#FDFEFE; font-family:newtimeroman; color:#9d4f8c; font-size:100%; text-align:center; border-radius:10px 10px;\">WAY TO REINVENT YOURSELF</p>"
   ]
  },
  {
   "cell_type": "markdown",
   "metadata": {
    "id": "xSwVOspA2Zin"
   },
   "source": [
    "## <p style=\"background-color:#9d4f8c; font-family:newtimeroman; color:#FFF9ED; font-size:150%; text-align:center; border-radius:10px 10px;\">POLICE KILLING US - PANDAS & MATPLOTLIB VISUALiZATION TASK</p>\n",
    "\n",
    "![image.jpg](https://i.ibb.co/fr8t7vY/maxresdefault.jpg)\n",
    "\n",
    "[Photo Credit: Youtube](https://www.youtube.com/watch?v=y_c3IgZGOiQ)"
   ]
  },
  {
   "cell_type": "markdown",
   "metadata": {},
   "source": [
    "![image.png](https://i.ibb.co/4gc0nbk/matplotlib.png)\n",
    "\n",
    "Matplotlib was created by **John D. Hunter,** an American neurobiologist, and was first released in 2002. Since then it has an **active development community** and is distributed under a **BSD-style license.** Matplotlib is a plotting library for the Python programming language and its numerical mathematics extension NumPy [Source](https://en.wikipedia.org/wiki/Matplotlib). Matplotlib is a **low level graph plotting library in python** that serves as a visualization utility. Matplotlib is **open source** and we can use it freely. Matplotlib is mostly written in python, a few segments are written in C, Objective-C and Javascript for Platform compatibility [Source](https://www.w3schools.com/python/matplotlib_intro.asp).\n",
    "\n",
    "Matplotlib is a **two-dimensional (2D) plotting library** for Python. With Matplotlib, you can generate lines, scatter graphs, bar charts, histograms, error bars, etc, and even do simple 3D plots using the mplot3d toolkit. Matplotlib has a module called Pyplot, which provides an interface similar to MatLab. [Photo Credit: fullstackpython](https://www.fullstackpython.com/matplotlib.html)\n",
    "\n",
    "[MATPLOTLIB Source01](https://matplotlib.org/),\n",
    "[MATPLOTLIB Source02](https://www.educative.io/edpresso/what-is-matplotlib),\n",
    "[MATPLOTLIB Source03](https://realpython.com/python-matplotlib-guide/),\n",
    "[MATPLOTLIB Source04](https://jakevdp.github.io/PythonDataScienceHandbook/04.00-introduction-to-matplotlib.html), &\n",
    "[MATPLOTLIB Source05](https://medium.com/@developit19/matplotlib-python-651fd07e9234)"
   ]
  },
  {
   "cell_type": "markdown",
   "metadata": {},
   "source": [
    "<a id=\"toc\"></a>\n",
    "\n",
    "## <p style=\"background-color:#9d4f8c; font-family:newtimeroman; color:#FFF9ED; font-size:150%; text-align:center; border-radius:10px 10px;\">CONTENT</p>\n",
    "\n",
    "* [ABOUT THE DATASET & CONTEXT](#0)\n",
    "* [ABOUT THE FEATURES](#00)\n",
    "* [IMPORTING LIBRARIES NEEDED IN THIS NOTEBOOK](#000)\n",
    "* [INSTRUCTIONS (Tasks in the Assignment)](#1)\n",
    "* [Q1 - PLOT THE NUMBER OF PEOPLE BY GENDER](#2)\n",
    "* [Q2 - PLOT THE TYPES OF THE MOST 7 COMMON WEAPONS USED TO KILL PEOPLE](#3)\n",
    "* [Q3 - PLOT THE NUMBER OF AGE OF KILLED PEOPLE UNDER TWO GROUPS: UNDER 25 & ABOVE 25](#4)\n",
    "* [Q4 - PLOT THE NUMBER OF KILLED PEOPLE BY RACE](#5) \n",
    "* [Q5 - PLOT THE NUMBER OF KILLED PEOPLE BY RACE (PIE CHART)](#6)\n",
    "* [Q6 - PLOT THE MOST COMMON 15 FIRST & LAST NAME OF KILLED PEOPLE](#7)\n",
    "* [THE END OF THE TASK](#8)"
   ]
  },
  {
   "cell_type": "markdown",
   "metadata": {},
   "source": [
    "<a id=\"toc\"></a>\n",
    "\n",
    "## <p style=\"background-color:#9d4f8c; font-family:newtimeroman; color:#FFF9ED; font-size:150%; text-align:center; border-radius:10px 10px;\">ABOUT THE DATASET & CONTEXT</p>\n",
    "\n",
    "\"In 2015, The Washington Post began to log [every fatal shooting](https://www.washingtonpost.com/graphics/national/police-shootings-year-end/) by an on-duty police officer in the United States. In that time there have been [more than 5,000 such shootings](https://www.washingtonpost.com/nation/2019/08/09/what-weve-learned-about-police-shootings-years-after-ferguson/?arc404=true) recorded by The Post. After [Michael Brown, an unarmed Black man, was killed](https://www.washingtonpost.com/policeshootings/) in 2014 by police in Ferguson, Mo., a Post investigation found that the [FBI undercounted fatal police shootings](https://www.washingtonpost.com/news/post-nation/wp/2014/09/08/how-many-police-shootings-a-year-no-one-knows/) by more than half. This is because reporting by police departments is voluntary and many departments fail to do so. The Washington Post’s data relies primarily on news accounts, social media postings and police reports. Analysis of more than five years of data reveals that the number and circumstances of fatal shootings and the overall demographics of the victims have remained relatively constant...\" [SOURCE ==> Washington Post Article](https://www.washingtonpost.com/graphics/investigations/police-shootings-database/)\n",
    "\n",
    "[For more information about this story](https://www.washingtonpost.com/graphics/investigations/police-shootings-database/)\n",
    "\n",
    "\n",
    "This dataset has been prepared by The Washington Post (they keep updating it on runtime) with every fatal shooting in the United States by a police officer in the line of duty since Jan. 1, 2015.\n",
    "\n",
    "[2016 PoliceKillingUS DATASET](https://www.washingtonpost.com/graphics/national/police-shootings-2016/)<br>\n",
    "[2017 PoliceKillingUS DATASET](https://www.washingtonpost.com/graphics/national/police-shootings-2017/)<br>\n",
    "[2018 PoliceKillingUS DATASET](https://www.washingtonpost.com/graphics/2018/national/police-shootings-2018/)<br>\n",
    "[2019 PoliceKillingUS DATASET](https://www.washingtonpost.com/graphics/2019/national/police-shootings-2019/)<br>\n",
    "[2020 PoliceKillingUS DATASET](https://www.washingtonpost.com/graphics/national/police-shootings-2017/)<br>\n",
    "\n",
    "\n",
    "**In this assignment, you are supposed to do the exercise yourself to see if you can solve it. While solving the tasks if you need to remember some subjects, please repeat inclass materails in the course and udemy course videos if provided to you.**"
   ]
  },
  {
   "cell_type": "markdown",
   "metadata": {},
   "source": [
    "## <p style=\"background-color:#9d4f8c; font-family:newtimeroman; color:#FFF9ED; font-size:150%; text-align:center; border-radius:10px 10px;\">ABOUT THE FEATURES</p>\n",
    "\n",
    "<a id=\"00\"></a>\n",
    "<a href=\"#toc\" class=\"btn btn-primary btn-sm\" role=\"button\" aria-pressed=\"true\" \n",
    "style=\"color:blue; background-color:#dfa8e4\" data-toggle=\"popover\">Content</a>\n",
    "\n",
    "The file fatal-police-shootings-data.csv contains data about each fatal shooting in CSV format. The file can be downloaded at this URL. Each row has the following variables:\n",
    "\n",
    "- **id:** a unique identifier for each victim\n",
    "- **name:** the name of the victim\n",
    "- **date:** the date of the fatal shooting in YYYY-MM-DD format\n",
    "- **manner_of_death:** shot, shot and Tasered\n",
    "- **armed:** indicates that the victim was armed with some sort of implement that a police officer believed could inflict harm\n",
    "    - undetermined: it is not known whether or not the victim had a weapon\n",
    "    - unknown: the victim was armed, but it is not known what the object was\n",
    "    - unarmed: the victim was not armed\n",
    "- **age:** the age of the victim\n",
    "- **gender:** the gender of the victim. The Post identifies victims by the gender they identify with if reports indicate that it differs from their biological sex.\n",
    "    - M: Male\n",
    "    - F: Female\n",
    "    - None: unknown\n",
    "- **race:**\n",
    "    - W: White, non-Hispanic\n",
    "    - B: Black, non-Hispanic\n",
    "    - A: Asian\n",
    "    - N: Native American\n",
    "    - H: Hispanic\n",
    "    - O: Other\n",
    "    - None: unknown\n",
    "- **city:** the municipality where the fatal shooting took place. Note that in some cases this field may contain a county name if a more specific municipality is unavailable or unknown.\n",
    "- **state:** two-letter postal code abbreviation\n",
    "- **signs of mental illness:** News reports have indicated the victim had a history of mental health issues, expressed suicidal intentions or was experiencing mental distress at the time of the shooting.\n",
    "- **threat_level:** The threat_level column was used to flag incidents for the story by Amy Brittain in October 2015. http://www.washingtonpost.com/sf/investigative/2015/10/24/on-duty-under-fire/ As described in the story, the general criteria for the attack label was that there was the most direct and immediate threat to life. That would include incidents where officers or others were shot at, threatened with a gun, attacked with other weapons or physical force, etc. The attack category is meant to flag the highest level of threat. The other and undetermined categories represent all remaining cases. Other includes many incidents where officers or others faced significant threats.\n",
    "- **flee:** News reports have indicated the victim was moving away from officers\n",
    "    - Foot\n",
    "    - Car\n",
    "    - Not fleeing\n",
    "\n",
    "The threat column and the fleeing column are not necessarily related. For example, there is an incident in which the suspect is fleeing and at the same time turns to fire at gun at the officer. Also, attacks represent a status immediately before fatal shots by police while fleeing could begin slightly earlier and involve a chase.\n",
    "- **body_camera:** News reports have indicated an officer was wearing a body camera and it may have recorded some portion of the incident.\n",
    "\n",
    "[SOURCE](https://github.com/washingtonpost/data-police-shootings)"
   ]
  },
  {
   "cell_type": "markdown",
   "metadata": {},
   "source": [
    "## <p style=\"background-color:#9d4f8c; font-family:newtimeroman; color:#FFF9ED; font-size:150%; text-align:center; border-radius:10px 10px;\">IMPORTING LIBRARIES NEEDED IN THIS NOTEBOOK</p>\n",
    "\n",
    "<a id=\"000\"></a>\n",
    "<a href=\"#toc\" class=\"btn btn-primary btn-sm\" role=\"button\" aria-pressed=\"true\" \n",
    "style=\"color:blue; background-color:#dfa8e4\" data-toggle=\"popover\">Content</a>"
   ]
  },
  {
   "cell_type": "code",
   "execution_count": 2,
   "metadata": {
    "_cell_guid": "5fdcd462-5466-40f5-9992-dc31a9a174f2",
    "_uuid": "dab5021d92c7210270cec270470e4ae179a1de01",
    "id": "22qiZVq32Zir"
   },
   "outputs": [],
   "source": [
    "import numpy as np \n",
    "import pandas as pd\n",
    "import seaborn as sns\n",
    "import matplotlib.pyplot as plt\n",
    "%matplotlib inline\n",
    "from collections import Counter\n",
    "import warnings\n",
    "warnings.filterwarnings('ignore')"
   ]
  },
  {
   "cell_type": "markdown",
   "metadata": {
    "id": "Rsu0y4Ha2Zit"
   },
   "source": [
    "## <p style=\"background-color:#9d4f8c; font-family:newtimeroman; color:#FFF9ED; font-size:150%; text-align:center; border-radius:10px 10px;\">INSTRUCTIONS (Tasks in the Assignment)</p>\n",
    "\n",
    "<a id=\"1\"></a>\n",
    "<a href=\"#toc\" class=\"btn btn-primary btn-sm\" role=\"button\" aria-pressed=\"true\" \n",
    "style=\"color:blue; background-color:#dfa8e4\" data-toggle=\"popover\">Content</a>\n",
    "\n",
    "**In this assignment you're required to handle with the following tasks:** \n",
    "\n",
    "- **Task 1.** Plotting the number of killed people by gender<br>\n",
    "- **Task 2.** Plotting the type of weapon used to kill people<br>\n",
    "- **Task 3.** Plotting the killed people by age<br>\n",
    "- **Task 4.** Plotting the killed people by race<br>\n",
    "- **Task 5.** Plotting the killed people by race (Pie Chart)<br>\n",
    "- **Task 6.** Plotting the most common 15 first or last name of killed people<br>"
   ]
  },
  {
   "cell_type": "markdown",
   "metadata": {
    "id": "YgMNG9aJ3dXa"
   },
   "source": [
    "**Now Let us first try to load and read the PoliceKillingsUS dataset. [SOURCE](https://towardsdatascience.com/learn-how-to-read-data-into-a-pandas-dataframe-in-5-minutes-122af8e0b9db) for learning how to read data into a Pandas DataFrame in 5 minutes.**  "
   ]
  },
  {
   "cell_type": "code",
   "execution_count": 3,
   "metadata": {
    "_cell_guid": "abb0685f-f844-43f8-84c0-4cd54361c7bf",
    "_uuid": "9c06ed7c41db79ae9d940f2d52aeff23621b3037",
    "id": "NYz5lAPp2Ziu"
   },
   "outputs": [],
   "source": [
    "kill = pd.read_csv('PoliceKillingsUS.csv', encoding=\"windows-1252\")"
   ]
  },
  {
   "cell_type": "markdown",
   "metadata": {},
   "source": [
    "Always take a note of your dataset, and choose encoding accordingly, or else you might not be able to properly decode dataset into a Pandas DataFrame. Few of the common options include \"utf-8\", \"utf-16\", \"latin-1\", \"iso-8859-1\", \"iso-8859-15\" & \"cp1252\". Also ensure to mention complete PATH to your dataset, if it isn't in the same local directory as your IDE (Jupyter Notebook, for instance). If unaware of the PATH, run %pwd in an Input cell of Jupyter Notebook to fetch that information. For more detailed know-how on Jupyter Notebook, please refer to the [article](https://medium.com/@neuralnets/beginners-quick-guide-for-handling-issues-launching-jupyter-notebook-for-python-using-anaconda-8be3d57a209b) focusing entirely on that subject.<br>\n",
    "\n",
    "**Pandas read_csv() tricks you should know to speed up your data analysis**<br>\n",
    "[\"SOURCE 1](https://towardsdatascience.com/all-the-pandas-read-csv-you-should-know-to-speed-up-your-data-analysis-1e16fe1039f3)<br>\n",
    "[\"SOURCE 2](https://python.plainenglish.io/reading-data-with-pythons-pandas-2715ff925b1d)<br>\n",
    "[\"SOURCE 3](https://www.shanelynn.ie/python-pandas-read-csv-load-data-from-csv-files/)<br>\n",
    "[\"SOURCE 4](http://net-informations.com/ds/pda/csv.htm)<br>\n",
    "[\"SOURCE 5](https://blog.finxter.com/how-to-fix-unicodedecodeerror-when-reading-csv-file-in-pandas-with-python/)<br>\n",
    "\n",
    "\n",
    "**the most viable formats in which files tend to be encoded are mostly either of these:**\n",
    "- encoding=\"utf8\"\n",
    "- encoding=\"utf16\"\n",
    "- encoding=\"windows-1251\"\n",
    "- encoding=\"windows-1252\"\n",
    "- encoding='latin1' (also known as ISO-885901)\n",
    "- encoding='iso-8859-1' or \n",
    "- encoding='cp1252'"
   ]
  },
  {
   "cell_type": "markdown",
   "metadata": {},
   "source": [
    "Moving on, just the way we looked into built-in datasets in the Seaborn library, let us know have a preview of this dataset as well. **However, we won’t be getting into deep analysis of this dataset because our agenda in this assignmnet is only to visualize the content within & gradually discover the statistical reference.** So, let’s do this:"
   ]
  },
  {
   "cell_type": "code",
   "execution_count": 4,
   "metadata": {
    "colab": {
     "base_uri": "https://localhost:8080/",
     "height": 307
    },
    "id": "g73Ix7402Zi9",
    "outputId": "86e0e696-de3b-4104-f682-b70291ccd40f"
   },
   "outputs": [
    {
     "data": {
      "text/html": [
       "<div>\n",
       "<style scoped>\n",
       "    .dataframe tbody tr th:only-of-type {\n",
       "        vertical-align: middle;\n",
       "    }\n",
       "\n",
       "    .dataframe tbody tr th {\n",
       "        vertical-align: top;\n",
       "    }\n",
       "\n",
       "    .dataframe thead th {\n",
       "        text-align: right;\n",
       "    }\n",
       "</style>\n",
       "<table border=\"1\" class=\"dataframe\">\n",
       "  <thead>\n",
       "    <tr style=\"text-align: right;\">\n",
       "      <th></th>\n",
       "      <th>id</th>\n",
       "      <th>name</th>\n",
       "      <th>date</th>\n",
       "      <th>manner_of_death</th>\n",
       "      <th>armed</th>\n",
       "      <th>age</th>\n",
       "      <th>gender</th>\n",
       "      <th>race</th>\n",
       "      <th>city</th>\n",
       "      <th>state</th>\n",
       "      <th>signs_of_mental_illness</th>\n",
       "      <th>threat_level</th>\n",
       "      <th>flee</th>\n",
       "      <th>body_camera</th>\n",
       "    </tr>\n",
       "  </thead>\n",
       "  <tbody>\n",
       "    <tr>\n",
       "      <th>0</th>\n",
       "      <td>3</td>\n",
       "      <td>Tim Elliot</td>\n",
       "      <td>02/01/15</td>\n",
       "      <td>shot</td>\n",
       "      <td>gun</td>\n",
       "      <td>53.0</td>\n",
       "      <td>M</td>\n",
       "      <td>A</td>\n",
       "      <td>Shelton</td>\n",
       "      <td>WA</td>\n",
       "      <td>True</td>\n",
       "      <td>attack</td>\n",
       "      <td>Not fleeing</td>\n",
       "      <td>False</td>\n",
       "    </tr>\n",
       "    <tr>\n",
       "      <th>1</th>\n",
       "      <td>4</td>\n",
       "      <td>Lewis Lee Lembke</td>\n",
       "      <td>02/01/15</td>\n",
       "      <td>shot</td>\n",
       "      <td>gun</td>\n",
       "      <td>47.0</td>\n",
       "      <td>M</td>\n",
       "      <td>W</td>\n",
       "      <td>Aloha</td>\n",
       "      <td>OR</td>\n",
       "      <td>False</td>\n",
       "      <td>attack</td>\n",
       "      <td>Not fleeing</td>\n",
       "      <td>False</td>\n",
       "    </tr>\n",
       "    <tr>\n",
       "      <th>2</th>\n",
       "      <td>5</td>\n",
       "      <td>John Paul Quintero</td>\n",
       "      <td>03/01/15</td>\n",
       "      <td>shot and Tasered</td>\n",
       "      <td>unarmed</td>\n",
       "      <td>23.0</td>\n",
       "      <td>M</td>\n",
       "      <td>H</td>\n",
       "      <td>Wichita</td>\n",
       "      <td>KS</td>\n",
       "      <td>False</td>\n",
       "      <td>other</td>\n",
       "      <td>Not fleeing</td>\n",
       "      <td>False</td>\n",
       "    </tr>\n",
       "    <tr>\n",
       "      <th>3</th>\n",
       "      <td>8</td>\n",
       "      <td>Matthew Hoffman</td>\n",
       "      <td>04/01/15</td>\n",
       "      <td>shot</td>\n",
       "      <td>toy weapon</td>\n",
       "      <td>32.0</td>\n",
       "      <td>M</td>\n",
       "      <td>W</td>\n",
       "      <td>San Francisco</td>\n",
       "      <td>CA</td>\n",
       "      <td>True</td>\n",
       "      <td>attack</td>\n",
       "      <td>Not fleeing</td>\n",
       "      <td>False</td>\n",
       "    </tr>\n",
       "    <tr>\n",
       "      <th>4</th>\n",
       "      <td>9</td>\n",
       "      <td>Michael Rodriguez</td>\n",
       "      <td>04/01/15</td>\n",
       "      <td>shot</td>\n",
       "      <td>nail gun</td>\n",
       "      <td>39.0</td>\n",
       "      <td>M</td>\n",
       "      <td>H</td>\n",
       "      <td>Evans</td>\n",
       "      <td>CO</td>\n",
       "      <td>False</td>\n",
       "      <td>attack</td>\n",
       "      <td>Not fleeing</td>\n",
       "      <td>False</td>\n",
       "    </tr>\n",
       "  </tbody>\n",
       "</table>\n",
       "</div>"
      ],
      "text/plain": [
       "   id                name      date   manner_of_death       armed   age  \\\n",
       "0   3          Tim Elliot  02/01/15              shot         gun  53.0   \n",
       "1   4    Lewis Lee Lembke  02/01/15              shot         gun  47.0   \n",
       "2   5  John Paul Quintero  03/01/15  shot and Tasered     unarmed  23.0   \n",
       "3   8     Matthew Hoffman  04/01/15              shot  toy weapon  32.0   \n",
       "4   9   Michael Rodriguez  04/01/15              shot    nail gun  39.0   \n",
       "\n",
       "  gender race           city state  signs_of_mental_illness threat_level  \\\n",
       "0      M    A        Shelton    WA                     True       attack   \n",
       "1      M    W          Aloha    OR                    False       attack   \n",
       "2      M    H        Wichita    KS                    False        other   \n",
       "3      M    W  San Francisco    CA                     True       attack   \n",
       "4      M    H          Evans    CO                    False       attack   \n",
       "\n",
       "          flee  body_camera  \n",
       "0  Not fleeing        False  \n",
       "1  Not fleeing        False  \n",
       "2  Not fleeing        False  \n",
       "3  Not fleeing        False  \n",
       "4  Not fleeing        False  "
      ]
     },
     "execution_count": 4,
     "metadata": {},
     "output_type": "execute_result"
    }
   ],
   "source": [
    "kill.head()"
   ]
  },
  {
   "cell_type": "markdown",
   "metadata": {},
   "source": [
    "## <p style=\"background-color:#9d4f8c; font-family:newtimeroman; color:#FFF9ED; font-size:150%; text-align:center; border-radius:10px 10px;\">Q1 - PLOT THE NUMBER OF PEOPLE BY GENDER</p>\n",
    "\n",
    "<a id=\"2\"></a>\n",
    "<a href=\"#toc\" class=\"btn btn-primary btn-sm\" role=\"button\" aria-pressed=\"true\" \n",
    "style=\"color:blue; background-color:#dfa8e4\" data-toggle=\"popover\">Content</a>"
   ]
  },
  {
   "cell_type": "code",
   "execution_count": 5,
   "metadata": {
    "colab": {
     "base_uri": "https://localhost:8080/"
    },
    "id": "qpNp2y2Sm8iT",
    "outputId": "13407309-e5a2-4fb1-870f-38f50b766175"
   },
   "outputs": [
    {
     "data": {
      "text/plain": [
       "M    2428\n",
       "F     107\n",
       "Name: gender, dtype: int64"
      ]
     },
     "execution_count": 5,
     "metadata": {},
     "output_type": "execute_result"
    }
   ],
   "source": [
    "kill.gender.value_counts()"
   ]
  },
  {
   "cell_type": "code",
   "execution_count": 6,
   "metadata": {
    "colab": {
     "base_uri": "https://localhost:8080/",
     "height": 282
    },
    "id": "9l_gl3On2Zi9",
    "outputId": "b95855c7-7317-49ae-c7d5-26eea80e73cd",
    "scrolled": false
   },
   "outputs": [
    {
     "data": {
      "image/png": "[encoded data removed]",
      "text/plain": [
       "<Figure size 432x288 with 1 Axes>"
      ]
     },
     "metadata": {
      "needs_background": "light"
     },
     "output_type": "display_data"
    }
   ],
   "source": [
    "# with pandas\n",
    "\n",
    "fig, ax = plt.subplots()\n",
    "kill.gender.value_counts().plot(kind='bar', ax=ax)\n",
    "# or\n",
    "# ax = kill.gender.value_counts().plot(kind='bar')\n",
    "\n",
    "ax.set_title(\"Gender Distribution\", fontsize=15)\n",
    "\n",
    "for p in ax.patches:\n",
    "    ax.annotate((p.get_height()), (p.get_x()+0.2, p.get_height()+20));"
   ]
  },
  {
   "cell_type": "code",
   "execution_count": 7,
   "metadata": {
    "colab": {
     "base_uri": "https://localhost:8080/",
     "height": 283
    },
    "id": "KtJXC38R2Zi9",
    "outputId": "3ee73509-cefb-4e5e-e216-6e68ff63f015"
   },
   "outputs": [
    {
     "data": {
      "image/png": "[encoded data removed]",
      "text/plain": [
       "<Figure size 432x288 with 1 Axes>"
      ]
     },
     "metadata": {
      "needs_background": "light"
     },
     "output_type": "display_data"
    }
   ],
   "source": [
    "# with matplotlib\n",
    "\n",
    "fig, ax = plt.subplots()\n",
    "ax.bar(kill.gender.value_counts().index,kill.gender.value_counts().values)\n",
    "ax.set_title(\"Gender Distribution\", fontsize=15)\n",
    "\n",
    "for p in ax.patches:\n",
    "    ax.annotate((p.get_height()), (p.get_x()+0.35, p.get_height()+20));"
   ]
  },
  {
   "cell_type": "code",
   "execution_count": 8,
   "metadata": {
    "colab": {
     "base_uri": "https://localhost:8080/"
    },
    "id": "dWAGITqHnLHy",
    "outputId": "71865420-a006-4117-9573-66e8fb281893"
   },
   "outputs": [
    {
     "data": {
      "text/plain": [
       "[<matplotlib.patches.Rectangle at 0x2acba8fdfd0>,\n",
       " <matplotlib.patches.Rectangle at 0x2acba8cf9a0>]"
      ]
     },
     "execution_count": 8,
     "metadata": {},
     "output_type": "execute_result"
    }
   ],
   "source": [
    "ax.patches"
   ]
  },
  {
   "cell_type": "code",
   "execution_count": 9,
   "metadata": {
    "colab": {
     "base_uri": "https://localhost:8080/"
    },
    "id": "JQsROztbnLLD",
    "outputId": "541a5ce6-778e-4e5a-abeb-11d97b6ba34c"
   },
   "outputs": [
    {
     "data": {
      "text/plain": [
       "<matplotlib.patches.Rectangle at 0x2acba8cf9a0>"
      ]
     },
     "execution_count": 9,
     "metadata": {},
     "output_type": "execute_result"
    }
   ],
   "source": [
    "ax.patches[1]"
   ]
  },
  {
   "cell_type": "code",
   "execution_count": 10,
   "metadata": {
    "colab": {
     "base_uri": "https://localhost:8080/"
    },
    "id": "iklwPaernLN2",
    "outputId": "806f0036-65d3-4ac7-b7b3-ac10e5b70e90"
   },
   "outputs": [
    {
     "data": {
      "text/plain": [
       "0.6"
      ]
     },
     "execution_count": 10,
     "metadata": {},
     "output_type": "execute_result"
    }
   ],
   "source": [
    "ax.patches[1].get_x()"
   ]
  },
  {
   "cell_type": "code",
   "execution_count": 11,
   "metadata": {
    "colab": {
     "base_uri": "https://localhost:8080/"
    },
    "id": "eoJhzVygnLRo",
    "outputId": "c4dfc6b7-fa6f-4470-fb51-b2e32b7a7d4e"
   },
   "outputs": [
    {
     "data": {
      "text/plain": [
       "107"
      ]
     },
     "execution_count": 11,
     "metadata": {},
     "output_type": "execute_result"
    }
   ],
   "source": [
    "ax.patches[1].get_height()"
   ]
  },
  {
   "cell_type": "code",
   "execution_count": 12,
   "metadata": {
    "colab": {
     "base_uri": "https://localhost:8080/",
     "height": 283
    },
    "id": "lH84-mPwnLU2",
    "outputId": "21c47271-9216-4742-a184-9576c446bcfd"
   },
   "outputs": [
    {
     "data": {
      "image/png": "[encoded data removed]",
      "text/plain": [
       "<Figure size 432x288 with 1 Axes>"
      ]
     },
     "metadata": {
      "needs_background": "light"
     },
     "output_type": "display_data"
    }
   ],
   "source": [
    "# alternatif solution\n",
    "\n",
    "x= kill.gender.value_counts().index\n",
    "y= kill.gender.value_counts().values\n",
    "\n",
    "plt.bar(x, y)\n",
    "plt.title(\"Gender Distribution\", fontsize=15)\n",
    "\n",
    "for i in range(len(x)):\n",
    "    plt.text( x[i], y[i], str(y[i]), ha='center', va='bottom' ) "
   ]
  },
  {
   "cell_type": "markdown",
   "metadata": {},
   "source": [
    "## <p style=\"background-color:#9d4f8c; font-family:newtimeroman; color:#FFF9ED; font-size:150%; text-align:center; border-radius:10px 10px;\">Q2 - PLOT THE TYPES OF THE MOST 7 COMMON WEAPONS USED TO KILL PEOPLE</p>\n",
    "\n",
    "<a id=\"3\"></a>\n",
    "<a href=\"#toc\" class=\"btn btn-primary btn-sm\" role=\"button\" aria-pressed=\"true\" \n",
    "style=\"color:blue; background-color:#dfa8e4\" data-toggle=\"popover\">Content</a>"
   ]
  },
  {
   "cell_type": "code",
   "execution_count": 13,
   "metadata": {
    "colab": {
     "base_uri": "https://localhost:8080/",
     "height": 307
    },
    "id": "0jyrKxCXjXEL",
    "outputId": "e49e3a13-4659-4556-e941-6201b7897e74"
   },
   "outputs": [
    {
     "data": {
      "text/html": [
       "<div>\n",
       "<style scoped>\n",
       "    .dataframe tbody tr th:only-of-type {\n",
       "        vertical-align: middle;\n",
       "    }\n",
       "\n",
       "    .dataframe tbody tr th {\n",
       "        vertical-align: top;\n",
       "    }\n",
       "\n",
       "    .dataframe thead th {\n",
       "        text-align: right;\n",
       "    }\n",
       "</style>\n",
       "<table border=\"1\" class=\"dataframe\">\n",
       "  <thead>\n",
       "    <tr style=\"text-align: right;\">\n",
       "      <th></th>\n",
       "      <th>id</th>\n",
       "      <th>name</th>\n",
       "      <th>date</th>\n",
       "      <th>manner_of_death</th>\n",
       "      <th>armed</th>\n",
       "      <th>age</th>\n",
       "      <th>gender</th>\n",
       "      <th>race</th>\n",
       "      <th>city</th>\n",
       "      <th>state</th>\n",
       "      <th>signs_of_mental_illness</th>\n",
       "      <th>threat_level</th>\n",
       "      <th>flee</th>\n",
       "      <th>body_camera</th>\n",
       "    </tr>\n",
       "  </thead>\n",
       "  <tbody>\n",
       "    <tr>\n",
       "      <th>0</th>\n",
       "      <td>3</td>\n",
       "      <td>Tim Elliot</td>\n",
       "      <td>02/01/15</td>\n",
       "      <td>shot</td>\n",
       "      <td>gun</td>\n",
       "      <td>53.0</td>\n",
       "      <td>M</td>\n",
       "      <td>A</td>\n",
       "      <td>Shelton</td>\n",
       "      <td>WA</td>\n",
       "      <td>True</td>\n",
       "      <td>attack</td>\n",
       "      <td>Not fleeing</td>\n",
       "      <td>False</td>\n",
       "    </tr>\n",
       "    <tr>\n",
       "      <th>1</th>\n",
       "      <td>4</td>\n",
       "      <td>Lewis Lee Lembke</td>\n",
       "      <td>02/01/15</td>\n",
       "      <td>shot</td>\n",
       "      <td>gun</td>\n",
       "      <td>47.0</td>\n",
       "      <td>M</td>\n",
       "      <td>W</td>\n",
       "      <td>Aloha</td>\n",
       "      <td>OR</td>\n",
       "      <td>False</td>\n",
       "      <td>attack</td>\n",
       "      <td>Not fleeing</td>\n",
       "      <td>False</td>\n",
       "    </tr>\n",
       "    <tr>\n",
       "      <th>2</th>\n",
       "      <td>5</td>\n",
       "      <td>John Paul Quintero</td>\n",
       "      <td>03/01/15</td>\n",
       "      <td>shot and Tasered</td>\n",
       "      <td>unarmed</td>\n",
       "      <td>23.0</td>\n",
       "      <td>M</td>\n",
       "      <td>H</td>\n",
       "      <td>Wichita</td>\n",
       "      <td>KS</td>\n",
       "      <td>False</td>\n",
       "      <td>other</td>\n",
       "      <td>Not fleeing</td>\n",
       "      <td>False</td>\n",
       "    </tr>\n",
       "    <tr>\n",
       "      <th>3</th>\n",
       "      <td>8</td>\n",
       "      <td>Matthew Hoffman</td>\n",
       "      <td>04/01/15</td>\n",
       "      <td>shot</td>\n",
       "      <td>toy weapon</td>\n",
       "      <td>32.0</td>\n",
       "      <td>M</td>\n",
       "      <td>W</td>\n",
       "      <td>San Francisco</td>\n",
       "      <td>CA</td>\n",
       "      <td>True</td>\n",
       "      <td>attack</td>\n",
       "      <td>Not fleeing</td>\n",
       "      <td>False</td>\n",
       "    </tr>\n",
       "    <tr>\n",
       "      <th>4</th>\n",
       "      <td>9</td>\n",
       "      <td>Michael Rodriguez</td>\n",
       "      <td>04/01/15</td>\n",
       "      <td>shot</td>\n",
       "      <td>nail gun</td>\n",
       "      <td>39.0</td>\n",
       "      <td>M</td>\n",
       "      <td>H</td>\n",
       "      <td>Evans</td>\n",
       "      <td>CO</td>\n",
       "      <td>False</td>\n",
       "      <td>attack</td>\n",
       "      <td>Not fleeing</td>\n",
       "      <td>False</td>\n",
       "    </tr>\n",
       "  </tbody>\n",
       "</table>\n",
       "</div>"
      ],
      "text/plain": [
       "   id                name      date   manner_of_death       armed   age  \\\n",
       "0   3          Tim Elliot  02/01/15              shot         gun  53.0   \n",
       "1   4    Lewis Lee Lembke  02/01/15              shot         gun  47.0   \n",
       "2   5  John Paul Quintero  03/01/15  shot and Tasered     unarmed  23.0   \n",
       "3   8     Matthew Hoffman  04/01/15              shot  toy weapon  32.0   \n",
       "4   9   Michael Rodriguez  04/01/15              shot    nail gun  39.0   \n",
       "\n",
       "  gender race           city state  signs_of_mental_illness threat_level  \\\n",
       "0      M    A        Shelton    WA                     True       attack   \n",
       "1      M    W          Aloha    OR                    False       attack   \n",
       "2      M    H        Wichita    KS                    False        other   \n",
       "3      M    W  San Francisco    CA                     True       attack   \n",
       "4      M    H          Evans    CO                    False       attack   \n",
       "\n",
       "          flee  body_camera  \n",
       "0  Not fleeing        False  \n",
       "1  Not fleeing        False  \n",
       "2  Not fleeing        False  \n",
       "3  Not fleeing        False  \n",
       "4  Not fleeing        False  "
      ]
     },
     "execution_count": 13,
     "metadata": {},
     "output_type": "execute_result"
    }
   ],
   "source": [
    "kill.head()"
   ]
  },
  {
   "cell_type": "code",
   "execution_count": 14,
   "metadata": {
    "colab": {
     "base_uri": "https://localhost:8080/"
    },
    "id": "5DMuYIRznaA_",
    "outputId": "623c9f24-506b-44bf-9da1-34c85ee039e1"
   },
   "outputs": [
    {
     "data": {
      "text/plain": [
       "gun             1398\n",
       "knife            373\n",
       "vehicle          177\n",
       "unarmed          171\n",
       "undetermined     117\n",
       "toy weapon       104\n",
       "machete           18\n",
       "Name: armed, dtype: int64"
      ]
     },
     "execution_count": 14,
     "metadata": {},
     "output_type": "execute_result"
    }
   ],
   "source": [
    "kill.armed.value_counts()[:7]"
   ]
  },
  {
   "cell_type": "code",
   "execution_count": 15,
   "metadata": {
    "colab": {
     "base_uri": "https://localhost:8080/"
    },
    "id": "IJV68iy_oIb7",
    "outputId": "d3d13217-8f4f-46ed-a332-49761a0f6aeb"
   },
   "outputs": [
    {
     "data": {
      "text/plain": [
       "gun             1398\n",
       "knife            373\n",
       "vehicle          177\n",
       "unarmed          171\n",
       "undetermined     117\n",
       "toy weapon       104\n",
       "machete           18\n",
       "Name: armed, dtype: int64"
      ]
     },
     "execution_count": 15,
     "metadata": {},
     "output_type": "execute_result"
    }
   ],
   "source": [
    "kill.armed.value_counts(dropna=False)[:7]"
   ]
  },
  {
   "cell_type": "code",
   "execution_count": 16,
   "metadata": {
    "colab": {
     "base_uri": "https://localhost:8080/"
    },
    "id": "BAU2H77b2Zi9",
    "outputId": "a6ca3b13-4a67-4a2f-8f3b-dd2e9c8e1d4b",
    "scrolled": true
   },
   "outputs": [
    {
     "data": {
      "text/plain": [
       "gun             1398\n",
       "knife            373\n",
       "vehicle          177\n",
       "unarmed          171\n",
       "undetermined     117\n",
       "toy weapon       104\n",
       "machete           18\n",
       "Name: armed, dtype: int64"
      ]
     },
     "execution_count": 16,
     "metadata": {},
     "output_type": "execute_result"
    }
   ],
   "source": [
    "common_weapons = kill.armed.value_counts(dropna=False)[:7]\n",
    "common_weapons"
   ]
  },
  {
   "cell_type": "code",
   "execution_count": 17,
   "metadata": {
    "colab": {
     "base_uri": "https://localhost:8080/",
     "height": 367
    },
    "id": "WznuMe522Zi-",
    "outputId": "99a262cc-3f6b-47b7-d0c4-07564c0f2525"
   },
   "outputs": [
    {
     "data": {
      "image/png": "[encoded data removed]",
      "text/plain": [
       "<Figure size 576x360 with 1 Axes>"
      ]
     },
     "metadata": {
      "needs_background": "light"
     },
     "output_type": "display_data"
    }
   ],
   "source": [
    "# with pandas\n",
    "\n",
    "fig, ax = plt.subplots(figsize=(8, 5))\n",
    "\n",
    "common_weapons.plot(kind='bar', ax=ax)\n",
    "ax.set_xticklabels(common_weapons.index, rotation=45)\n",
    "\n",
    "for p in ax.patches:\n",
    "    ax.annotate((p.get_height()), (p.get_x()+0.1, p.get_height()+10));"
   ]
  },
  {
   "cell_type": "code",
   "execution_count": 18,
   "metadata": {
    "colab": {
     "base_uri": "https://localhost:8080/",
     "height": 367
    },
    "id": "v6AvLOw82Zi-",
    "outputId": "d2ab70d2-52ef-4534-adb7-adc375ddec04"
   },
   "outputs": [
    {
     "data": {
      "image/png": "[encoded data removed]",
      "text/plain": [
       "<Figure size 576x360 with 1 Axes>"
      ]
     },
     "metadata": {
      "needs_background": "light"
     },
     "output_type": "display_data"
    }
   ],
   "source": [
    "# with matplotlib\n",
    "\n",
    "fig, ax = plt.subplots(figsize=(8,5))\n",
    "ax.bar(x = common_weapons.index, height=common_weapons.values)\n",
    "ax.set_xticklabels(common_weapons.index, rotation=45)\n",
    "\n",
    "for p in ax.patches:\n",
    "    ax.annotate((p.get_height()), (p.get_x()+0.1, p.get_height()+10));"
   ]
  },
  {
   "cell_type": "markdown",
   "metadata": {},
   "source": [
    "## <p style=\"background-color:#9d4f8c; font-family:newtimeroman; color:#FFF9ED; font-size:150%; text-align:center; border-radius:10px 10px;\">Q3 - PLOT THE NUMBER OF AGE OF KILLED PEOPLE UNDER TWO GROUPS: UNDER 25 & ABOVE 25</p>\n",
    "\n",
    "<a id=\"4\"></a>\n",
    "<a href=\"#toc\" class=\"btn btn-primary btn-sm\" role=\"button\" aria-pressed=\"true\" \n",
    "style=\"color:blue; background-color:#dfa8e4\" data-toggle=\"popover\">Content</a>"
   ]
  },
  {
   "cell_type": "code",
   "execution_count": 19,
   "metadata": {
    "colab": {
     "base_uri": "https://localhost:8080/",
     "height": 307
    },
    "id": "V4mng-vC2Zi-",
    "outputId": "855baf24-b73a-4d93-9829-286927269200"
   },
   "outputs": [
    {
     "data": {
      "text/html": [
       "<div>\n",
       "<style scoped>\n",
       "    .dataframe tbody tr th:only-of-type {\n",
       "        vertical-align: middle;\n",
       "    }\n",
       "\n",
       "    .dataframe tbody tr th {\n",
       "        vertical-align: top;\n",
       "    }\n",
       "\n",
       "    .dataframe thead th {\n",
       "        text-align: right;\n",
       "    }\n",
       "</style>\n",
       "<table border=\"1\" class=\"dataframe\">\n",
       "  <thead>\n",
       "    <tr style=\"text-align: right;\">\n",
       "      <th></th>\n",
       "      <th>id</th>\n",
       "      <th>name</th>\n",
       "      <th>date</th>\n",
       "      <th>manner_of_death</th>\n",
       "      <th>armed</th>\n",
       "      <th>age</th>\n",
       "      <th>gender</th>\n",
       "      <th>race</th>\n",
       "      <th>city</th>\n",
       "      <th>state</th>\n",
       "      <th>signs_of_mental_illness</th>\n",
       "      <th>threat_level</th>\n",
       "      <th>flee</th>\n",
       "      <th>body_camera</th>\n",
       "    </tr>\n",
       "  </thead>\n",
       "  <tbody>\n",
       "    <tr>\n",
       "      <th>0</th>\n",
       "      <td>3</td>\n",
       "      <td>Tim Elliot</td>\n",
       "      <td>02/01/15</td>\n",
       "      <td>shot</td>\n",
       "      <td>gun</td>\n",
       "      <td>53.0</td>\n",
       "      <td>M</td>\n",
       "      <td>A</td>\n",
       "      <td>Shelton</td>\n",
       "      <td>WA</td>\n",
       "      <td>True</td>\n",
       "      <td>attack</td>\n",
       "      <td>Not fleeing</td>\n",
       "      <td>False</td>\n",
       "    </tr>\n",
       "    <tr>\n",
       "      <th>1</th>\n",
       "      <td>4</td>\n",
       "      <td>Lewis Lee Lembke</td>\n",
       "      <td>02/01/15</td>\n",
       "      <td>shot</td>\n",
       "      <td>gun</td>\n",
       "      <td>47.0</td>\n",
       "      <td>M</td>\n",
       "      <td>W</td>\n",
       "      <td>Aloha</td>\n",
       "      <td>OR</td>\n",
       "      <td>False</td>\n",
       "      <td>attack</td>\n",
       "      <td>Not fleeing</td>\n",
       "      <td>False</td>\n",
       "    </tr>\n",
       "    <tr>\n",
       "      <th>2</th>\n",
       "      <td>5</td>\n",
       "      <td>John Paul Quintero</td>\n",
       "      <td>03/01/15</td>\n",
       "      <td>shot and Tasered</td>\n",
       "      <td>unarmed</td>\n",
       "      <td>23.0</td>\n",
       "      <td>M</td>\n",
       "      <td>H</td>\n",
       "      <td>Wichita</td>\n",
       "      <td>KS</td>\n",
       "      <td>False</td>\n",
       "      <td>other</td>\n",
       "      <td>Not fleeing</td>\n",
       "      <td>False</td>\n",
       "    </tr>\n",
       "    <tr>\n",
       "      <th>3</th>\n",
       "      <td>8</td>\n",
       "      <td>Matthew Hoffman</td>\n",
       "      <td>04/01/15</td>\n",
       "      <td>shot</td>\n",
       "      <td>toy weapon</td>\n",
       "      <td>32.0</td>\n",
       "      <td>M</td>\n",
       "      <td>W</td>\n",
       "      <td>San Francisco</td>\n",
       "      <td>CA</td>\n",
       "      <td>True</td>\n",
       "      <td>attack</td>\n",
       "      <td>Not fleeing</td>\n",
       "      <td>False</td>\n",
       "    </tr>\n",
       "    <tr>\n",
       "      <th>4</th>\n",
       "      <td>9</td>\n",
       "      <td>Michael Rodriguez</td>\n",
       "      <td>04/01/15</td>\n",
       "      <td>shot</td>\n",
       "      <td>nail gun</td>\n",
       "      <td>39.0</td>\n",
       "      <td>M</td>\n",
       "      <td>H</td>\n",
       "      <td>Evans</td>\n",
       "      <td>CO</td>\n",
       "      <td>False</td>\n",
       "      <td>attack</td>\n",
       "      <td>Not fleeing</td>\n",
       "      <td>False</td>\n",
       "    </tr>\n",
       "  </tbody>\n",
       "</table>\n",
       "</div>"
      ],
      "text/plain": [
       "   id                name      date   manner_of_death       armed   age  \\\n",
       "0   3          Tim Elliot  02/01/15              shot         gun  53.0   \n",
       "1   4    Lewis Lee Lembke  02/01/15              shot         gun  47.0   \n",
       "2   5  John Paul Quintero  03/01/15  shot and Tasered     unarmed  23.0   \n",
       "3   8     Matthew Hoffman  04/01/15              shot  toy weapon  32.0   \n",
       "4   9   Michael Rodriguez  04/01/15              shot    nail gun  39.0   \n",
       "\n",
       "  gender race           city state  signs_of_mental_illness threat_level  \\\n",
       "0      M    A        Shelton    WA                     True       attack   \n",
       "1      M    W          Aloha    OR                    False       attack   \n",
       "2      M    H        Wichita    KS                    False        other   \n",
       "3      M    W  San Francisco    CA                     True       attack   \n",
       "4      M    H          Evans    CO                    False       attack   \n",
       "\n",
       "          flee  body_camera  \n",
       "0  Not fleeing        False  \n",
       "1  Not fleeing        False  \n",
       "2  Not fleeing        False  \n",
       "3  Not fleeing        False  \n",
       "4  Not fleeing        False  "
      ]
     },
     "execution_count": 19,
     "metadata": {},
     "output_type": "execute_result"
    }
   ],
   "source": [
    "kill.head()"
   ]
  },
  {
   "cell_type": "code",
   "execution_count": 20,
   "metadata": {
    "id": "1zfmB3FS2Zi-"
   },
   "outputs": [],
   "source": [
    "kill[\"age_cat\"] = kill.age.apply(lambda x : \"above25\" if x >=25 else (\"below25\" if x<25 else \"others\"))"
   ]
  },
  {
   "cell_type": "code",
   "execution_count": 21,
   "metadata": {
    "colab": {
     "base_uri": "https://localhost:8080/",
     "height": 307
    },
    "id": "DJzAOutV2Zi-",
    "outputId": "52d649c8-b8cf-4430-b2d3-2c55051b6525"
   },
   "outputs": [
    {
     "data": {
      "text/html": [
       "<div>\n",
       "<style scoped>\n",
       "    .dataframe tbody tr th:only-of-type {\n",
       "        vertical-align: middle;\n",
       "    }\n",
       "\n",
       "    .dataframe tbody tr th {\n",
       "        vertical-align: top;\n",
       "    }\n",
       "\n",
       "    .dataframe thead th {\n",
       "        text-align: right;\n",
       "    }\n",
       "</style>\n",
       "<table border=\"1\" class=\"dataframe\">\n",
       "  <thead>\n",
       "    <tr style=\"text-align: right;\">\n",
       "      <th></th>\n",
       "      <th>id</th>\n",
       "      <th>name</th>\n",
       "      <th>date</th>\n",
       "      <th>manner_of_death</th>\n",
       "      <th>armed</th>\n",
       "      <th>age</th>\n",
       "      <th>gender</th>\n",
       "      <th>race</th>\n",
       "      <th>city</th>\n",
       "      <th>state</th>\n",
       "      <th>signs_of_mental_illness</th>\n",
       "      <th>threat_level</th>\n",
       "      <th>flee</th>\n",
       "      <th>body_camera</th>\n",
       "      <th>age_cat</th>\n",
       "    </tr>\n",
       "  </thead>\n",
       "  <tbody>\n",
       "    <tr>\n",
       "      <th>0</th>\n",
       "      <td>3</td>\n",
       "      <td>Tim Elliot</td>\n",
       "      <td>02/01/15</td>\n",
       "      <td>shot</td>\n",
       "      <td>gun</td>\n",
       "      <td>53.0</td>\n",
       "      <td>M</td>\n",
       "      <td>A</td>\n",
       "      <td>Shelton</td>\n",
       "      <td>WA</td>\n",
       "      <td>True</td>\n",
       "      <td>attack</td>\n",
       "      <td>Not fleeing</td>\n",
       "      <td>False</td>\n",
       "      <td>above25</td>\n",
       "    </tr>\n",
       "    <tr>\n",
       "      <th>1</th>\n",
       "      <td>4</td>\n",
       "      <td>Lewis Lee Lembke</td>\n",
       "      <td>02/01/15</td>\n",
       "      <td>shot</td>\n",
       "      <td>gun</td>\n",
       "      <td>47.0</td>\n",
       "      <td>M</td>\n",
       "      <td>W</td>\n",
       "      <td>Aloha</td>\n",
       "      <td>OR</td>\n",
       "      <td>False</td>\n",
       "      <td>attack</td>\n",
       "      <td>Not fleeing</td>\n",
       "      <td>False</td>\n",
       "      <td>above25</td>\n",
       "    </tr>\n",
       "    <tr>\n",
       "      <th>2</th>\n",
       "      <td>5</td>\n",
       "      <td>John Paul Quintero</td>\n",
       "      <td>03/01/15</td>\n",
       "      <td>shot and Tasered</td>\n",
       "      <td>unarmed</td>\n",
       "      <td>23.0</td>\n",
       "      <td>M</td>\n",
       "      <td>H</td>\n",
       "      <td>Wichita</td>\n",
       "      <td>KS</td>\n",
       "      <td>False</td>\n",
       "      <td>other</td>\n",
       "      <td>Not fleeing</td>\n",
       "      <td>False</td>\n",
       "      <td>below25</td>\n",
       "    </tr>\n",
       "    <tr>\n",
       "      <th>3</th>\n",
       "      <td>8</td>\n",
       "      <td>Matthew Hoffman</td>\n",
       "      <td>04/01/15</td>\n",
       "      <td>shot</td>\n",
       "      <td>toy weapon</td>\n",
       "      <td>32.0</td>\n",
       "      <td>M</td>\n",
       "      <td>W</td>\n",
       "      <td>San Francisco</td>\n",
       "      <td>CA</td>\n",
       "      <td>True</td>\n",
       "      <td>attack</td>\n",
       "      <td>Not fleeing</td>\n",
       "      <td>False</td>\n",
       "      <td>above25</td>\n",
       "    </tr>\n",
       "    <tr>\n",
       "      <th>4</th>\n",
       "      <td>9</td>\n",
       "      <td>Michael Rodriguez</td>\n",
       "      <td>04/01/15</td>\n",
       "      <td>shot</td>\n",
       "      <td>nail gun</td>\n",
       "      <td>39.0</td>\n",
       "      <td>M</td>\n",
       "      <td>H</td>\n",
       "      <td>Evans</td>\n",
       "      <td>CO</td>\n",
       "      <td>False</td>\n",
       "      <td>attack</td>\n",
       "      <td>Not fleeing</td>\n",
       "      <td>False</td>\n",
       "      <td>above25</td>\n",
       "    </tr>\n",
       "  </tbody>\n",
       "</table>\n",
       "</div>"
      ],
      "text/plain": [
       "   id                name      date   manner_of_death       armed   age  \\\n",
       "0   3          Tim Elliot  02/01/15              shot         gun  53.0   \n",
       "1   4    Lewis Lee Lembke  02/01/15              shot         gun  47.0   \n",
       "2   5  John Paul Quintero  03/01/15  shot and Tasered     unarmed  23.0   \n",
       "3   8     Matthew Hoffman  04/01/15              shot  toy weapon  32.0   \n",
       "4   9   Michael Rodriguez  04/01/15              shot    nail gun  39.0   \n",
       "\n",
       "  gender race           city state  signs_of_mental_illness threat_level  \\\n",
       "0      M    A        Shelton    WA                     True       attack   \n",
       "1      M    W          Aloha    OR                    False       attack   \n",
       "2      M    H        Wichita    KS                    False        other   \n",
       "3      M    W  San Francisco    CA                     True       attack   \n",
       "4      M    H          Evans    CO                    False       attack   \n",
       "\n",
       "          flee  body_camera  age_cat  \n",
       "0  Not fleeing        False  above25  \n",
       "1  Not fleeing        False  above25  \n",
       "2  Not fleeing        False  below25  \n",
       "3  Not fleeing        False  above25  \n",
       "4  Not fleeing        False  above25  "
      ]
     },
     "execution_count": 21,
     "metadata": {},
     "output_type": "execute_result"
    }
   ],
   "source": [
    "kill.head()"
   ]
  },
  {
   "cell_type": "code",
   "execution_count": 22,
   "metadata": {
    "colab": {
     "base_uri": "https://localhost:8080/"
    },
    "id": "fSQ8BTUD2Zi_",
    "outputId": "f26c3efd-9b2f-4fe8-d1a3-23e8d57cf613"
   },
   "outputs": [
    {
     "data": {
      "text/plain": [
       "above25    2008\n",
       "below25     450\n",
       "others       77\n",
       "Name: age_cat, dtype: int64"
      ]
     },
     "execution_count": 22,
     "metadata": {},
     "output_type": "execute_result"
    }
   ],
   "source": [
    "age_class = kill.age_cat.value_counts()\n",
    "age_class"
   ]
  },
  {
   "cell_type": "code",
   "execution_count": 23,
   "metadata": {
    "colab": {
     "base_uri": "https://localhost:8080/",
     "height": 298
    },
    "id": "O5TT5DGG2Zi_",
    "outputId": "d58bd328-2c35-4442-ca7b-cf39185b5174"
   },
   "outputs": [
    {
     "data": {
      "image/png": "[encoded data removed]",
      "text/plain": [
       "<Figure size 432x288 with 1 Axes>"
      ]
     },
     "metadata": {
      "needs_background": "light"
     },
     "output_type": "display_data"
    }
   ],
   "source": [
    "# with pandas\n",
    "\n",
    "ax = age_class.plot.bar()\n",
    "\n",
    "for p in ax.patches:\n",
    "    ax.annotate(round(p.get_height()), (p.get_x()+0.2, p.get_height()+10));"
   ]
  },
  {
   "cell_type": "code",
   "execution_count": 24,
   "metadata": {
    "colab": {
     "base_uri": "https://localhost:8080/",
     "height": 265
    },
    "id": "gpOukiYx2Zi_",
    "outputId": "e2659872-bae4-4127-918a-2d547935ad60"
   },
   "outputs": [
    {
     "data": {
      "image/png": "[encoded data removed]",
      "text/plain": [
       "<Figure size 432x288 with 1 Axes>"
      ]
     },
     "metadata": {
      "needs_background": "light"
     },
     "output_type": "display_data"
    }
   ],
   "source": [
    "# with matplotlib\n",
    "\n",
    "fig, ax = plt.subplots()\n",
    "ax.bar(x = age_class.index, height=age_class.values)\n",
    "\n",
    "for p in ax.patches:\n",
    "    ax.annotate(round(p.get_height()), (p.get_x()+0.35, p.get_height()+10));"
   ]
  },
  {
   "cell_type": "markdown",
   "metadata": {
    "id": "518uY8oqAVrN"
   },
   "source": [
    "## <p style=\"background-color:#9d4f8c; font-family:newtimeroman; color:#FFF9ED; font-size:150%; text-align:center; border-radius:10px 10px;\">Q4 - PLOT THE NUMBER OF KILLED PEOPLE BY RACE</p>\n",
    "\n",
    "<a id=\"5\"></a>\n",
    "<a href=\"#toc\" class=\"btn btn-primary btn-sm\" role=\"button\" aria-pressed=\"true\" \n",
    "style=\"color:blue; background-color:#dfa8e4\" data-toggle=\"popover\">Content</a>"
   ]
  },
  {
   "cell_type": "code",
   "execution_count": 25,
   "metadata": {
    "colab": {
     "base_uri": "https://localhost:8080/"
    },
    "id": "Uqh-Od7X2Zi_",
    "outputId": "af6363d8-6c3b-4ead-974e-60152ca9f2e8"
   },
   "outputs": [
    {
     "data": {
      "text/plain": [
       "W    1201\n",
       "B     618\n",
       "H     423\n",
       "A      39\n",
       "N      31\n",
       "O      28\n",
       "Name: race, dtype: int64"
      ]
     },
     "execution_count": 25,
     "metadata": {},
     "output_type": "execute_result"
    }
   ],
   "source": [
    "race_freq = kill.race.value_counts()\n",
    "race_freq"
   ]
  },
  {
   "cell_type": "code",
   "execution_count": 26,
   "metadata": {
    "colab": {
     "base_uri": "https://localhost:8080/"
    },
    "id": "-q2lckGI2ZjA",
    "outputId": "e2bb1a4c-f4dc-4e81-c9ed-43f248fe44b1"
   },
   "outputs": [
    {
     "data": {
      "image/png": "[encoded data removed]",
      "text/plain": [
       "<Figure size 432x288 with 1 Axes>"
      ]
     },
     "metadata": {
      "needs_background": "light"
     },
     "output_type": "display_data"
    }
   ],
   "source": [
    "# with pandas\n",
    "\n",
    "ax = race_freq.plot.bar()\n",
    "ax.set_title('Race of killed people',color = 'blue',fontsize=15);\n",
    "\n",
    "for p in ax.patches:\n",
    "    ax.annotate(p.get_height(), (p.get_x()+0.05, p.get_height()+10));"
   ]
  },
  {
   "cell_type": "code",
   "execution_count": 27,
   "metadata": {
    "colab": {
     "base_uri": "https://localhost:8080/"
    },
    "id": "Bb16OmdB2ZjA",
    "outputId": "39e2e9a7-7265-4e7c-a2ed-3e0d75d64b7d"
   },
   "outputs": [
    {
     "data": {
      "image/png": "[encoded data removed]",
      "text/plain": [
       "<Figure size 432x288 with 1 Axes>"
      ]
     },
     "metadata": {
      "needs_background": "light"
     },
     "output_type": "display_data"
    }
   ],
   "source": [
    "# with matplotlib\n",
    "\n",
    "fig, ax = plt.subplots()\n",
    "ax.bar(x=race_freq.index, height=race_freq.values)\n",
    "ax.set_title('Race of killed people',color = 'blue',fontsize=15);\n",
    "\n",
    "for p in ax.patches:\n",
    "    ax.annotate(p.get_height(), (p.get_x()+0.05, p.get_height()+10));"
   ]
  },
  {
   "cell_type": "markdown",
   "metadata": {
    "id": "o7z6kXmQ-EPT"
   },
   "source": [
    "## <p style=\"background-color:#9d4f8c; font-family:newtimeroman; color:#FFF9ED; font-size:150%; text-align:center; border-radius:10px 10px;\">Q5 - PLOT THE NUMBER OF KILLED PEOPLE BY RACE (PIE CHART)</p>\n",
    "\n",
    "<a id=\"6\"></a>\n",
    "<a href=\"#toc\" class=\"btn btn-primary btn-sm\" role=\"button\" aria-pressed=\"true\" \n",
    "style=\"color:blue; background-color:#dfa8e4\" data-toggle=\"popover\">Content</a>"
   ]
  },
  {
   "cell_type": "code",
   "execution_count": 28,
   "metadata": {
    "colab": {
     "base_uri": "https://localhost:8080/"
    },
    "id": "gq_OO4tB-l5E",
    "outputId": "18d1d47f-40dd-478c-9d04-2a9c682a8ddb"
   },
   "outputs": [
    {
     "data": {
      "text/html": [
       "<div>\n",
       "<style scoped>\n",
       "    .dataframe tbody tr th:only-of-type {\n",
       "        vertical-align: middle;\n",
       "    }\n",
       "\n",
       "    .dataframe tbody tr th {\n",
       "        vertical-align: top;\n",
       "    }\n",
       "\n",
       "    .dataframe thead th {\n",
       "        text-align: right;\n",
       "    }\n",
       "</style>\n",
       "<table border=\"1\" class=\"dataframe\">\n",
       "  <thead>\n",
       "    <tr style=\"text-align: right;\">\n",
       "      <th></th>\n",
       "      <th>id</th>\n",
       "      <th>name</th>\n",
       "      <th>date</th>\n",
       "      <th>manner_of_death</th>\n",
       "      <th>armed</th>\n",
       "      <th>age</th>\n",
       "      <th>gender</th>\n",
       "      <th>race</th>\n",
       "      <th>city</th>\n",
       "      <th>state</th>\n",
       "      <th>signs_of_mental_illness</th>\n",
       "      <th>threat_level</th>\n",
       "      <th>flee</th>\n",
       "      <th>body_camera</th>\n",
       "      <th>age_cat</th>\n",
       "    </tr>\n",
       "  </thead>\n",
       "  <tbody>\n",
       "    <tr>\n",
       "      <th>0</th>\n",
       "      <td>3</td>\n",
       "      <td>Tim Elliot</td>\n",
       "      <td>02/01/15</td>\n",
       "      <td>shot</td>\n",
       "      <td>gun</td>\n",
       "      <td>53.0</td>\n",
       "      <td>M</td>\n",
       "      <td>A</td>\n",
       "      <td>Shelton</td>\n",
       "      <td>WA</td>\n",
       "      <td>True</td>\n",
       "      <td>attack</td>\n",
       "      <td>Not fleeing</td>\n",
       "      <td>False</td>\n",
       "      <td>above25</td>\n",
       "    </tr>\n",
       "    <tr>\n",
       "      <th>1</th>\n",
       "      <td>4</td>\n",
       "      <td>Lewis Lee Lembke</td>\n",
       "      <td>02/01/15</td>\n",
       "      <td>shot</td>\n",
       "      <td>gun</td>\n",
       "      <td>47.0</td>\n",
       "      <td>M</td>\n",
       "      <td>W</td>\n",
       "      <td>Aloha</td>\n",
       "      <td>OR</td>\n",
       "      <td>False</td>\n",
       "      <td>attack</td>\n",
       "      <td>Not fleeing</td>\n",
       "      <td>False</td>\n",
       "      <td>above25</td>\n",
       "    </tr>\n",
       "    <tr>\n",
       "      <th>2</th>\n",
       "      <td>5</td>\n",
       "      <td>John Paul Quintero</td>\n",
       "      <td>03/01/15</td>\n",
       "      <td>shot and Tasered</td>\n",
       "      <td>unarmed</td>\n",
       "      <td>23.0</td>\n",
       "      <td>M</td>\n",
       "      <td>H</td>\n",
       "      <td>Wichita</td>\n",
       "      <td>KS</td>\n",
       "      <td>False</td>\n",
       "      <td>other</td>\n",
       "      <td>Not fleeing</td>\n",
       "      <td>False</td>\n",
       "      <td>below25</td>\n",
       "    </tr>\n",
       "    <tr>\n",
       "      <th>3</th>\n",
       "      <td>8</td>\n",
       "      <td>Matthew Hoffman</td>\n",
       "      <td>04/01/15</td>\n",
       "      <td>shot</td>\n",
       "      <td>toy weapon</td>\n",
       "      <td>32.0</td>\n",
       "      <td>M</td>\n",
       "      <td>W</td>\n",
       "      <td>San Francisco</td>\n",
       "      <td>CA</td>\n",
       "      <td>True</td>\n",
       "      <td>attack</td>\n",
       "      <td>Not fleeing</td>\n",
       "      <td>False</td>\n",
       "      <td>above25</td>\n",
       "    </tr>\n",
       "    <tr>\n",
       "      <th>4</th>\n",
       "      <td>9</td>\n",
       "      <td>Michael Rodriguez</td>\n",
       "      <td>04/01/15</td>\n",
       "      <td>shot</td>\n",
       "      <td>nail gun</td>\n",
       "      <td>39.0</td>\n",
       "      <td>M</td>\n",
       "      <td>H</td>\n",
       "      <td>Evans</td>\n",
       "      <td>CO</td>\n",
       "      <td>False</td>\n",
       "      <td>attack</td>\n",
       "      <td>Not fleeing</td>\n",
       "      <td>False</td>\n",
       "      <td>above25</td>\n",
       "    </tr>\n",
       "  </tbody>\n",
       "</table>\n",
       "</div>"
      ],
      "text/plain": [
       "   id                name      date   manner_of_death       armed   age  \\\n",
       "0   3          Tim Elliot  02/01/15              shot         gun  53.0   \n",
       "1   4    Lewis Lee Lembke  02/01/15              shot         gun  47.0   \n",
       "2   5  John Paul Quintero  03/01/15  shot and Tasered     unarmed  23.0   \n",
       "3   8     Matthew Hoffman  04/01/15              shot  toy weapon  32.0   \n",
       "4   9   Michael Rodriguez  04/01/15              shot    nail gun  39.0   \n",
       "\n",
       "  gender race           city state  signs_of_mental_illness threat_level  \\\n",
       "0      M    A        Shelton    WA                     True       attack   \n",
       "1      M    W          Aloha    OR                    False       attack   \n",
       "2      M    H        Wichita    KS                    False        other   \n",
       "3      M    W  San Francisco    CA                     True       attack   \n",
       "4      M    H          Evans    CO                    False       attack   \n",
       "\n",
       "          flee  body_camera  age_cat  \n",
       "0  Not fleeing        False  above25  \n",
       "1  Not fleeing        False  above25  \n",
       "2  Not fleeing        False  below25  \n",
       "3  Not fleeing        False  above25  \n",
       "4  Not fleeing        False  above25  "
      ]
     },
     "execution_count": 28,
     "metadata": {},
     "output_type": "execute_result"
    }
   ],
   "source": [
    "kill.head()"
   ]
  },
  {
   "cell_type": "code",
   "execution_count": 29,
   "metadata": {
    "_uuid": "73ef9a67518196c14338e28236b5054186fabdc1",
    "colab": {
     "base_uri": "https://localhost:8080/"
    },
    "id": "_ZPh_aCz-l5F",
    "outputId": "d63775dd-4920-43ff-afd1-252a0f904943"
   },
   "outputs": [
    {
     "data": {
      "text/plain": [
       "array(['A', 'W', 'H', 'B', 'O', nan, 'N'], dtype=object)"
      ]
     },
     "execution_count": 29,
     "metadata": {},
     "output_type": "execute_result"
    }
   ],
   "source": [
    "kill.race.unique()"
   ]
  },
  {
   "cell_type": "code",
   "execution_count": 30,
   "metadata": {
    "colab": {
     "base_uri": "https://localhost:8080/"
    },
    "id": "4lJAFvsx-l5F",
    "outputId": "3299bd5b-9e45-46b4-8905-d8dce57084d7"
   },
   "outputs": [
    {
     "data": {
      "text/plain": [
       "W      1201\n",
       "B       618\n",
       "H       423\n",
       "NaN     195\n",
       "A        39\n",
       "N        31\n",
       "O        28\n",
       "Name: race, dtype: int64"
      ]
     },
     "execution_count": 30,
     "metadata": {},
     "output_type": "execute_result"
    }
   ],
   "source": [
    "kill.race.value_counts(dropna=False)"
   ]
  },
  {
   "cell_type": "markdown",
   "metadata": {
    "id": "VuWSIYCm-l5F"
   },
   "source": [
    "Problem: missing value on race column."
   ]
  },
  {
   "cell_type": "markdown",
   "metadata": {
    "id": "mmCQXFcg-l5G"
   },
   "source": [
    "**INSTRUCTION-1: Drop the all raws that contain missing value (dropna)**"
   ]
  },
  {
   "cell_type": "code",
   "execution_count": 31,
   "metadata": {
    "id": "CzwSuxgQ-l5G"
   },
   "outputs": [],
   "source": [
    "kill.dropna(inplace=True)"
   ]
  },
  {
   "cell_type": "code",
   "execution_count": 32,
   "metadata": {
    "colab": {
     "base_uri": "https://localhost:8080/"
    },
    "id": "3DzEkUNo-l5G",
    "outputId": "60298c84-04ed-4704-808d-9bcac6928146"
   },
   "outputs": [
    {
     "data": {
      "text/plain": [
       "(2254, 15)"
      ]
     },
     "execution_count": 32,
     "metadata": {},
     "output_type": "execute_result"
    }
   ],
   "source": [
    "kill.shape"
   ]
  },
  {
   "cell_type": "markdown",
   "metadata": {
    "id": "DRb2AH84-l5G"
   },
   "source": [
    "**INSTRUCTION-2: Demonstrate Race Ratio of Killed People by a Pie Chart (You can use Matplotlib)**"
   ]
  },
  {
   "cell_type": "code",
   "execution_count": 33,
   "metadata": {
    "colab": {
     "base_uri": "https://localhost:8080/"
    },
    "id": "Pq0aSdnz-l5G",
    "outputId": "584f4906-8dff-469c-c5c4-bcbd3349f485"
   },
   "outputs": [
    {
     "data": {
      "text/plain": [
       "W    1168\n",
       "B     592\n",
       "H     401\n",
       "A      36\n",
       "N      29\n",
       "O      28\n",
       "Name: race, dtype: int64"
      ]
     },
     "execution_count": 33,
     "metadata": {},
     "output_type": "execute_result"
    }
   ],
   "source": [
    "kill.race.value_counts(dropna=False)"
   ]
  },
  {
   "cell_type": "code",
   "execution_count": 34,
   "metadata": {
    "colab": {
     "base_uri": "https://localhost:8080/"
    },
    "id": "z3CnjKfh-l5H",
    "outputId": "a166279b-b480-4f72-88e0-f19048b589ee"
   },
   "outputs": [
    {
     "data": {
      "text/plain": [
       "Index(['W', 'B', 'H', 'A', 'N', 'O'], dtype='object')"
      ]
     },
     "execution_count": 34,
     "metadata": {},
     "output_type": "execute_result"
    }
   ],
   "source": [
    "labels=kill.race.value_counts().index\n",
    "labels"
   ]
  },
  {
   "cell_type": "code",
   "execution_count": 35,
   "metadata": {
    "colab": {
     "base_uri": "https://localhost:8080/"
    },
    "id": "dNnqgLCM-l5H",
    "outputId": "9d06abe2-d696-499b-99e9-1c657beaf4bc"
   },
   "outputs": [
    {
     "data": {
      "text/plain": [
       "array([1168,  592,  401,   36,   29,   28], dtype=int64)"
      ]
     },
     "execution_count": 35,
     "metadata": {},
     "output_type": "execute_result"
    }
   ],
   "source": [
    "sizes=kill.race.value_counts().values\n",
    "sizes"
   ]
  },
  {
   "cell_type": "code",
   "execution_count": 36,
   "metadata": {
    "colab": {
     "base_uri": "https://localhost:8080/"
    },
    "id": "F1CSkbxa-l5H",
    "outputId": "fc97ecc9-64ae-412a-9bef-b33280fda62f"
   },
   "outputs": [
    {
     "data": {
      "image/png": "[encoded data removed]",
      "text/plain": [
       "<Figure size 720x720 with 1 Axes>"
      ]
     },
     "metadata": {},
     "output_type": "display_data"
    }
   ],
   "source": [
    "explode = (0, 0, 0.1, 0, 0, 0)\n",
    "\n",
    "fig1, ax1 = plt.subplots(figsize=(10,10))\n",
    "\n",
    "ax1.pie(x = sizes, \n",
    "        explode=explode, \n",
    "        labels=labels, \n",
    "        labeldistance=0.8,\n",
    "        autopct='%.1f',\n",
    "\n",
    "#         shadow=True, \n",
    "        startangle=0,\n",
    "#         radius=1.5,\n",
    "        textprops={'color':\"white\"}\n",
    "       );"
   ]
  },
  {
   "cell_type": "markdown",
   "metadata": {},
   "source": [
    "## <p style=\"background-color:#9d4f8c; font-family:newtimeroman; color:#FFF9ED; font-size:150%; text-align:center; border-radius:10px 10px;\">Q6 - PLOT THE MOST COMMON 15 FIRST & LAST NAME OF KILLED PEOPLE</p>\n",
    "\n",
    "<a id=\"7\"></a>\n",
    "<a href=\"#toc\" class=\"btn btn-primary btn-sm\" role=\"button\" aria-pressed=\"true\" \n",
    "style=\"color:blue; background-color:#dfa8e4\" data-toggle=\"popover\">Content</a>"
   ]
  },
  {
   "cell_type": "code",
   "execution_count": 37,
   "metadata": {
    "_uuid": "bfb975b648fbcbd1c6cdf1634f01e01371924a8c",
    "colab": {
     "base_uri": "https://localhost:8080/",
     "height": 307
    },
    "id": "7s9SsMsj-G-U",
    "outputId": "4a0159ac-f558-4609-8a43-58ee7bf4a73b"
   },
   "outputs": [
    {
     "data": {
      "text/html": [
       "<div>\n",
       "<style scoped>\n",
       "    .dataframe tbody tr th:only-of-type {\n",
       "        vertical-align: middle;\n",
       "    }\n",
       "\n",
       "    .dataframe tbody tr th {\n",
       "        vertical-align: top;\n",
       "    }\n",
       "\n",
       "    .dataframe thead th {\n",
       "        text-align: right;\n",
       "    }\n",
       "</style>\n",
       "<table border=\"1\" class=\"dataframe\">\n",
       "  <thead>\n",
       "    <tr style=\"text-align: right;\">\n",
       "      <th></th>\n",
       "      <th>id</th>\n",
       "      <th>name</th>\n",
       "      <th>date</th>\n",
       "      <th>manner_of_death</th>\n",
       "      <th>armed</th>\n",
       "      <th>age</th>\n",
       "      <th>gender</th>\n",
       "      <th>race</th>\n",
       "      <th>city</th>\n",
       "      <th>state</th>\n",
       "      <th>signs_of_mental_illness</th>\n",
       "      <th>threat_level</th>\n",
       "      <th>flee</th>\n",
       "      <th>body_camera</th>\n",
       "      <th>age_cat</th>\n",
       "    </tr>\n",
       "  </thead>\n",
       "  <tbody>\n",
       "    <tr>\n",
       "      <th>0</th>\n",
       "      <td>3</td>\n",
       "      <td>Tim Elliot</td>\n",
       "      <td>02/01/15</td>\n",
       "      <td>shot</td>\n",
       "      <td>gun</td>\n",
       "      <td>53.0</td>\n",
       "      <td>M</td>\n",
       "      <td>A</td>\n",
       "      <td>Shelton</td>\n",
       "      <td>WA</td>\n",
       "      <td>True</td>\n",
       "      <td>attack</td>\n",
       "      <td>Not fleeing</td>\n",
       "      <td>False</td>\n",
       "      <td>above25</td>\n",
       "    </tr>\n",
       "    <tr>\n",
       "      <th>1</th>\n",
       "      <td>4</td>\n",
       "      <td>Lewis Lee Lembke</td>\n",
       "      <td>02/01/15</td>\n",
       "      <td>shot</td>\n",
       "      <td>gun</td>\n",
       "      <td>47.0</td>\n",
       "      <td>M</td>\n",
       "      <td>W</td>\n",
       "      <td>Aloha</td>\n",
       "      <td>OR</td>\n",
       "      <td>False</td>\n",
       "      <td>attack</td>\n",
       "      <td>Not fleeing</td>\n",
       "      <td>False</td>\n",
       "      <td>above25</td>\n",
       "    </tr>\n",
       "    <tr>\n",
       "      <th>2</th>\n",
       "      <td>5</td>\n",
       "      <td>John Paul Quintero</td>\n",
       "      <td>03/01/15</td>\n",
       "      <td>shot and Tasered</td>\n",
       "      <td>unarmed</td>\n",
       "      <td>23.0</td>\n",
       "      <td>M</td>\n",
       "      <td>H</td>\n",
       "      <td>Wichita</td>\n",
       "      <td>KS</td>\n",
       "      <td>False</td>\n",
       "      <td>other</td>\n",
       "      <td>Not fleeing</td>\n",
       "      <td>False</td>\n",
       "      <td>below25</td>\n",
       "    </tr>\n",
       "    <tr>\n",
       "      <th>3</th>\n",
       "      <td>8</td>\n",
       "      <td>Matthew Hoffman</td>\n",
       "      <td>04/01/15</td>\n",
       "      <td>shot</td>\n",
       "      <td>toy weapon</td>\n",
       "      <td>32.0</td>\n",
       "      <td>M</td>\n",
       "      <td>W</td>\n",
       "      <td>San Francisco</td>\n",
       "      <td>CA</td>\n",
       "      <td>True</td>\n",
       "      <td>attack</td>\n",
       "      <td>Not fleeing</td>\n",
       "      <td>False</td>\n",
       "      <td>above25</td>\n",
       "    </tr>\n",
       "    <tr>\n",
       "      <th>4</th>\n",
       "      <td>9</td>\n",
       "      <td>Michael Rodriguez</td>\n",
       "      <td>04/01/15</td>\n",
       "      <td>shot</td>\n",
       "      <td>nail gun</td>\n",
       "      <td>39.0</td>\n",
       "      <td>M</td>\n",
       "      <td>H</td>\n",
       "      <td>Evans</td>\n",
       "      <td>CO</td>\n",
       "      <td>False</td>\n",
       "      <td>attack</td>\n",
       "      <td>Not fleeing</td>\n",
       "      <td>False</td>\n",
       "      <td>above25</td>\n",
       "    </tr>\n",
       "  </tbody>\n",
       "</table>\n",
       "</div>"
      ],
      "text/plain": [
       "   id                name      date   manner_of_death       armed   age  \\\n",
       "0   3          Tim Elliot  02/01/15              shot         gun  53.0   \n",
       "1   4    Lewis Lee Lembke  02/01/15              shot         gun  47.0   \n",
       "2   5  John Paul Quintero  03/01/15  shot and Tasered     unarmed  23.0   \n",
       "3   8     Matthew Hoffman  04/01/15              shot  toy weapon  32.0   \n",
       "4   9   Michael Rodriguez  04/01/15              shot    nail gun  39.0   \n",
       "\n",
       "  gender race           city state  signs_of_mental_illness threat_level  \\\n",
       "0      M    A        Shelton    WA                     True       attack   \n",
       "1      M    W          Aloha    OR                    False       attack   \n",
       "2      M    H        Wichita    KS                    False        other   \n",
       "3      M    W  San Francisco    CA                     True       attack   \n",
       "4      M    H          Evans    CO                    False       attack   \n",
       "\n",
       "          flee  body_camera  age_cat  \n",
       "0  Not fleeing        False  above25  \n",
       "1  Not fleeing        False  above25  \n",
       "2  Not fleeing        False  below25  \n",
       "3  Not fleeing        False  above25  \n",
       "4  Not fleeing        False  above25  "
      ]
     },
     "execution_count": 37,
     "metadata": {},
     "output_type": "execute_result"
    }
   ],
   "source": [
    "kill.head()"
   ]
  },
  {
   "cell_type": "code",
   "execution_count": 38,
   "metadata": {
    "colab": {
     "base_uri": "https://localhost:8080/"
    },
    "id": "R7idQSfR-G-V",
    "outputId": "39b755f3-69a4-429a-fbed-82d9eb20aec6"
   },
   "outputs": [
    {
     "data": {
      "text/plain": [
       "(2254, 15)"
      ]
     },
     "execution_count": 38,
     "metadata": {},
     "output_type": "execute_result"
    }
   ],
   "source": [
    "kill.shape"
   ]
  },
  {
   "cell_type": "code",
   "execution_count": 39,
   "metadata": {
    "colab": {
     "base_uri": "https://localhost:8080/"
    },
    "id": "xx5JDVqZ-G-V",
    "outputId": "47600ed3-092a-4944-cb24-9dbb17c90221"
   },
   "outputs": [
    {
     "data": {
      "text/plain": [
       "Michael Johnson             2\n",
       "Michael Brown               2\n",
       "Brandon Jones               2\n",
       "Eric Harris                 2\n",
       "Daquan Antonio Westbrook    2\n",
       "                           ..\n",
       "Phillip O'Shea              1\n",
       "Joshua Beebee               1\n",
       "Alexander Chance Partain    1\n",
       "Randall Lance Hughes        1\n",
       "Jamal Rollins               1\n",
       "Name: name, Length: 2249, dtype: int64"
      ]
     },
     "execution_count": 39,
     "metadata": {},
     "output_type": "execute_result"
    }
   ],
   "source": [
    "kill.name.value_counts()"
   ]
  },
  {
   "cell_type": "code",
   "execution_count": 40,
   "metadata": {
    "colab": {
     "base_uri": "https://localhost:8080/",
     "height": 117
    },
    "id": "XOprk3dumhsq",
    "outputId": "8e9bb6da-01d5-44a8-936a-bf051bfe3727"
   },
   "outputs": [
    {
     "data": {
      "text/html": [
       "<div>\n",
       "<style scoped>\n",
       "    .dataframe tbody tr th:only-of-type {\n",
       "        vertical-align: middle;\n",
       "    }\n",
       "\n",
       "    .dataframe tbody tr th {\n",
       "        vertical-align: top;\n",
       "    }\n",
       "\n",
       "    .dataframe thead th {\n",
       "        text-align: right;\n",
       "    }\n",
       "</style>\n",
       "<table border=\"1\" class=\"dataframe\">\n",
       "  <thead>\n",
       "    <tr style=\"text-align: right;\">\n",
       "      <th></th>\n",
       "      <th>id</th>\n",
       "      <th>name</th>\n",
       "      <th>date</th>\n",
       "      <th>manner_of_death</th>\n",
       "      <th>armed</th>\n",
       "      <th>age</th>\n",
       "      <th>gender</th>\n",
       "      <th>race</th>\n",
       "      <th>city</th>\n",
       "      <th>state</th>\n",
       "      <th>signs_of_mental_illness</th>\n",
       "      <th>threat_level</th>\n",
       "      <th>flee</th>\n",
       "      <th>body_camera</th>\n",
       "      <th>age_cat</th>\n",
       "    </tr>\n",
       "  </thead>\n",
       "  <tbody>\n",
       "    <tr>\n",
       "      <th>2465</th>\n",
       "      <td>2748</td>\n",
       "      <td>TK TK</td>\n",
       "      <td>05/07/17</td>\n",
       "      <td>shot</td>\n",
       "      <td>undetermined</td>\n",
       "      <td>24.0</td>\n",
       "      <td>M</td>\n",
       "      <td>H</td>\n",
       "      <td>Vista</td>\n",
       "      <td>CA</td>\n",
       "      <td>False</td>\n",
       "      <td>undetermined</td>\n",
       "      <td>Foot</td>\n",
       "      <td>False</td>\n",
       "      <td>below25</td>\n",
       "    </tr>\n",
       "  </tbody>\n",
       "</table>\n",
       "</div>"
      ],
      "text/plain": [
       "        id   name      date manner_of_death         armed   age gender race  \\\n",
       "2465  2748  TK TK  05/07/17            shot  undetermined  24.0      M    H   \n",
       "\n",
       "       city state  signs_of_mental_illness  threat_level  flee  body_camera  \\\n",
       "2465  Vista    CA                    False  undetermined  Foot        False   \n",
       "\n",
       "      age_cat  \n",
       "2465  below25  "
      ]
     },
     "execution_count": 40,
     "metadata": {},
     "output_type": "execute_result"
    }
   ],
   "source": [
    "kill[kill.name == 'TK TK']"
   ]
  },
  {
   "cell_type": "code",
   "execution_count": 41,
   "metadata": {
    "_cell_guid": "c2cd6681-42a4-44c2-ba1a-46d4d61b6eea",
    "_uuid": "b3b53866f9c794ca5f85f59bc5bfc0d01a830baf",
    "colab": {
     "base_uri": "https://localhost:8080/"
    },
    "id": "YsaT2vLg-G-W",
    "outputId": "2d5cb4ff-6938-4e3b-8cb6-b38ce6d99ffb",
    "scrolled": true
   },
   "outputs": [
    {
     "data": {
      "text/plain": [
       "0             [Tim, Elliot]\n",
       "1      [Lewis, Lee, Lembke]\n",
       "2    [John, Paul, Quintero]\n",
       "3        [Matthew, Hoffman]\n",
       "4      [Michael, Rodriguez]\n",
       "Name: name, dtype: object"
      ]
     },
     "execution_count": 41,
     "metadata": {},
     "output_type": "execute_result"
    }
   ],
   "source": [
    "# Problem: TK TK is most probably not a name or surname. We will clean them.\n",
    "\n",
    "pairs = kill.name[kill.name != 'TK TK'].str.split()\n",
    "pairs.head()"
   ]
  },
  {
   "cell_type": "code",
   "execution_count": 42,
   "metadata": {
    "colab": {
     "base_uri": "https://localhost:8080/"
    },
    "id": "Tm35sunM-G-W",
    "outputId": "769f8c5c-62d7-438a-f622-5d063a40fdde"
   },
   "outputs": [
    {
     "data": {
      "text/plain": [
       "pandas.core.series.Series"
      ]
     },
     "execution_count": 42,
     "metadata": {},
     "output_type": "execute_result"
    }
   ],
   "source": [
    "type(pairs)"
   ]
  },
  {
   "cell_type": "markdown",
   "metadata": {
    "id": "SDeKoDA3-G-W"
   },
   "source": [
    "**INSTRUCTIONS & HINTS FOR THE QUESTION**\n",
    "\n",
    "**Clue 1:** You need to separate the names and surnames because we are asking most common name OR surname.\n",
    "\n",
    "**Clue 2:** After seperation make a whole list that contains both names and surnames.\n",
    "\n",
    "**Clue 3:** How to separate the name and surname pairs?\n",
    "\n",
    ">> pairs = [(1, 'a'), (2, 'b'), (3, 'c'), (4, 'd')]<br>\n",
    ">> numbers, letters = zip(*pairs)<br>\n",
    ">> numbers<br>\n",
    "(1, 2, 3, 4)<br>\n",
    ">> letters<br>\n",
    "('a', 'b', 'c', 'd')\n",
    "\n",
    "**Clue 4:** You can use Counter() and most_common() built in functions together to find the most common names or surnames, or you can write your own functions for this purpose."
   ]
  },
  {
   "cell_type": "markdown",
   "metadata": {},
   "source": [
    "**By First Name**"
   ]
  },
  {
   "cell_type": "code",
   "execution_count": 43,
   "metadata": {
    "colab": {
     "base_uri": "https://localhost:8080/"
    },
    "id": "wTOlNN6V-G-W",
    "outputId": "e48f7008-df4d-4004-ebdf-f3f6b13d9056"
   },
   "outputs": [
    {
     "data": {
      "text/plain": [
       "(2253,)"
      ]
     },
     "execution_count": 43,
     "metadata": {},
     "output_type": "execute_result"
    }
   ],
   "source": [
    "pairs.shape"
   ]
  },
  {
   "cell_type": "code",
   "execution_count": 44,
   "metadata": {
    "colab": {
     "base_uri": "https://localhost:8080/"
    },
    "id": "0Ml-0Jbo-G-X",
    "outputId": "5af280f3-57d2-48eb-e4c1-dbfd21809457"
   },
   "outputs": [
    {
     "data": {
      "text/plain": [
       "['Tim', 'Elliot']"
      ]
     },
     "execution_count": 44,
     "metadata": {},
     "output_type": "execute_result"
    }
   ],
   "source": [
    "pairs[0]"
   ]
  },
  {
   "cell_type": "code",
   "execution_count": 45,
   "metadata": {
    "colab": {
     "base_uri": "https://localhost:8080/",
     "height": 35
    },
    "id": "B4S3UjP--G-X",
    "outputId": "1139b9e8-c755-4ced-909f-fe1c264cf751"
   },
   "outputs": [
    {
     "data": {
      "text/plain": [
       "'Tim'"
      ]
     },
     "execution_count": 45,
     "metadata": {},
     "output_type": "execute_result"
    }
   ],
   "source": [
    "pairs[0][0]"
   ]
  },
  {
   "cell_type": "code",
   "execution_count": 46,
   "metadata": {
    "id": "eIN9wmQZ-G-X"
   },
   "outputs": [],
   "source": [
    "table = []\n",
    "for i in pairs:\n",
    "  for j in i:\n",
    "    table.append(j)"
   ]
  },
  {
   "cell_type": "code",
   "execution_count": 47,
   "metadata": {
    "colab": {
     "base_uri": "https://localhost:8080/"
    },
    "id": "qzpsa-8C-G-X",
    "outputId": "06f0a4e2-7038-4190-dd6b-873dd799d932"
   },
   "outputs": [
    {
     "data": {
      "text/plain": [
       "5339"
      ]
     },
     "execution_count": 47,
     "metadata": {},
     "output_type": "execute_result"
    }
   ],
   "source": [
    "len(table)"
   ]
  },
  {
   "cell_type": "code",
   "execution_count": 48,
   "metadata": {
    "id": "E6EkGClj-G-Y"
   },
   "outputs": [
    {
     "data": {
      "text/plain": [
       "Counter({'Tim': 3,\n",
       "         'Elliot': 1,\n",
       "         'Lewis': 7,\n",
       "         'Lee': 37,\n",
       "         'Lembke': 1,\n",
       "         'John': 36,\n",
       "         'Paul': 16,\n",
       "         'Quintero': 2,\n",
       "         'Matthew': 22,\n",
       "         'Hoffman': 2,\n",
       "         'Michael': 82,\n",
       "         'Rodriguez': 13,\n",
       "         'Kenneth': 17,\n",
       "         'Joe': 9,\n",
       "         'Brown': 17,\n",
       "         'Arnold': 2,\n",
       "         'Buck': 3,\n",
       "         'Brock': 2,\n",
       "         'Nichols': 3,\n",
       "         'Autumn': 1,\n",
       "         'Steele': 1,\n",
       "         'Leslie': 2,\n",
       "         'Sapp': 2,\n",
       "         'III': 9,\n",
       "         'Patrick': 13,\n",
       "         'Wetter': 1,\n",
       "         'Ron': 2,\n",
       "         'Sneed': 1,\n",
       "         'Hashim': 1,\n",
       "         'Hanif': 1,\n",
       "         'Ibn': 1,\n",
       "         'Abdul-Rasheed': 1,\n",
       "         'Nicholas': 13,\n",
       "         'Ryan': 16,\n",
       "         'Brickman': 1,\n",
       "         'Omarr': 1,\n",
       "         'Julian': 3,\n",
       "         'Maximillian': 1,\n",
       "         'Jackson': 9,\n",
       "         'Loren': 3,\n",
       "         'Simpson': 4,\n",
       "         'James': 47,\n",
       "         'Dudley': 1,\n",
       "         'Barker': 2,\n",
       "         'Artago': 1,\n",
       "         'Damon': 6,\n",
       "         'Howard': 3,\n",
       "         'Thomas': 24,\n",
       "         'Hamby': 1,\n",
       "         'Jimmy': 5,\n",
       "         'Foreman': 1,\n",
       "         'Andy': 1,\n",
       "         'Martinez': 10,\n",
       "         'Tommy': 3,\n",
       "         'Smith': 31,\n",
       "         'Brian': 9,\n",
       "         'Barbosa': 1,\n",
       "         'Salvador': 4,\n",
       "         'Figueroa': 2,\n",
       "         'Edward': 15,\n",
       "         \"O'Keefe\": 1,\n",
       "         'Richard': 33,\n",
       "         'McClendon': 2,\n",
       "         'Marcus': 4,\n",
       "         'Golden': 1,\n",
       "         'Goebel': 1,\n",
       "         'Mario': 8,\n",
       "         'Jordan': 5,\n",
       "         'Talbot': 1,\n",
       "         'Schroeder': 2,\n",
       "         'Robert': 44,\n",
       "         'Edwards': 6,\n",
       "         'Jeffrey': 17,\n",
       "         'R.': 10,\n",
       "         'Nielson': 1,\n",
       "         'Donte': 3,\n",
       "         'Sowell': 2,\n",
       "         'Kavonda': 1,\n",
       "         'Earl': 9,\n",
       "         'Payton': 1,\n",
       "         'Quincy': 2,\n",
       "         'Reed': 2,\n",
       "         'Reindl': 1,\n",
       "         'Jose': 23,\n",
       "         'Ceja': 1,\n",
       "         'Nathan': 6,\n",
       "         'Massey': 1,\n",
       "         'Scott': 25,\n",
       "         'Hall': 13,\n",
       "         'Zaki': 1,\n",
       "         'Shinwary': 1,\n",
       "         'Terence': 3,\n",
       "         'Walker': 3,\n",
       "         'Pablo': 3,\n",
       "         'Meza': 1,\n",
       "         'Daniel': 40,\n",
       "         'Brumley': 1,\n",
       "         'Jonathan': 10,\n",
       "         'Guillory': 1,\n",
       "         'Carter': 5,\n",
       "         'Castle': 1,\n",
       "         'Campbell': 4,\n",
       "         'Dewayne': 3,\n",
       "         'Carr': 2,\n",
       "         'Todd': 10,\n",
       "         'Allen': 20,\n",
       "         'Hodge': 4,\n",
       "         'Miguel': 9,\n",
       "         'Angel': 14,\n",
       "         'de': 1,\n",
       "         'Santos-Rodriguez': 1,\n",
       "         'Isaac': 2,\n",
       "         'Holmes': 2,\n",
       "         'Andrew': 19,\n",
       "         'Toto': 1,\n",
       "         'Tiano': 1,\n",
       "         'Meton': 1,\n",
       "         'Kristiana': 1,\n",
       "         'Coignard': 1,\n",
       "         'Francis': 12,\n",
       "         'Mesch': 1,\n",
       "         'Demaris': 1,\n",
       "         'Turner': 3,\n",
       "         'Antonio': 14,\n",
       "         'Espinoza': 1,\n",
       "         'Ruiz': 2,\n",
       "         'Wendell': 1,\n",
       "         'King': 4,\n",
       "         'Daryl': 1,\n",
       "         'Myler': 1,\n",
       "         'Darin': 1,\n",
       "         'Hutchins': 1,\n",
       "         'Orlando': 1,\n",
       "         'Jude': 1,\n",
       "         'Lopez': 7,\n",
       "         'Jessie': 3,\n",
       "         'Hernandez': 13,\n",
       "         'Raymond': 10,\n",
       "         'Kmetz': 1,\n",
       "         'Joshua': 27,\n",
       "         'Omar': 6,\n",
       "         'Garcia': 12,\n",
       "         'David': 53,\n",
       "         'Nicolas': 2,\n",
       "         'Leland': 2,\n",
       "         'Tewa': 1,\n",
       "         'Chris': 3,\n",
       "         'Ingram': 1,\n",
       "         'Jermonte': 1,\n",
       "         'Fletcher': 4,\n",
       "         'Tiffany': 2,\n",
       "         'Terry': 7,\n",
       "         'Alan': 11,\n",
       "         'Lance': 5,\n",
       "         'Alverson': 1,\n",
       "         'Matautu': 1,\n",
       "         'Nuu': 1,\n",
       "         'Cody': 6,\n",
       "         'Karasek': 1,\n",
       "         'Ralph': 3,\n",
       "         'Willis': 3,\n",
       "         'Barry': 6,\n",
       "         'Marshall': 6,\n",
       "         'Victor': 6,\n",
       "         'Manuel': 6,\n",
       "         'Reyes': 6,\n",
       "         'Donnell': 2,\n",
       "         'Bright': 1,\n",
       "         'Jacob': 6,\n",
       "         'Haglund': 1,\n",
       "         'Kassick': 1,\n",
       "         'Murphy': 3,\n",
       "         'Rose': 3,\n",
       "         'Ledarius': 1,\n",
       "         'D.': 14,\n",
       "         'Williams': 16,\n",
       "         'Yuvette': 1,\n",
       "         'Henderson': 5,\n",
       "         'Deshawn': 1,\n",
       "         'Ward': 1,\n",
       "         'Anthony': 26,\n",
       "         'Purvis': 1,\n",
       "         'Jeremy': 12,\n",
       "         'Lett': 1,\n",
       "         'Izzy': 1,\n",
       "         'Colon': 1,\n",
       "         'Muna': 1,\n",
       "         'Joaquin': 1,\n",
       "         'Ray': 13,\n",
       "         'Robinson': 8,\n",
       "         'Jr.': 18,\n",
       "         'Markell': 2,\n",
       "         'Atkins': 1,\n",
       "         'Alfred': 4,\n",
       "         'Eugene': 12,\n",
       "         'Johnson': 29,\n",
       "         'Herbert': 5,\n",
       "         'Hill': 4,\n",
       "         'Sawyer': 2,\n",
       "         'Martin': 13,\n",
       "         'Whittaker': 1,\n",
       "         'Flache': 1,\n",
       "         'Vincent': 5,\n",
       "         'Cordaro': 1,\n",
       "         'Joseph': 43,\n",
       "         'Paffen': 1,\n",
       "         'Larry': 6,\n",
       "         'Hostetter': 1,\n",
       "         'Kreyssig': 1,\n",
       "         'Desmond': 3,\n",
       "         'Luster': 1,\n",
       "         'Zambrano-Montes': 1,\n",
       "         'Bess': 2,\n",
       "         'Fritze': 1,\n",
       "         'Phillip': 9,\n",
       "         'Watkins': 4,\n",
       "         'Stewart': 3,\n",
       "         'Harden': 1,\n",
       "         'Andres': 1,\n",
       "         'Lara-Rodriguez': 1,\n",
       "         'Carlin': 1,\n",
       "         'Belk': 1,\n",
       "         'Mejia': 2,\n",
       "         'Jason': 22,\n",
       "         'C.': 8,\n",
       "         'Hendrix': 2,\n",
       "         'Roy': 6,\n",
       "         'Joy': 1,\n",
       "         'Day': 2,\n",
       "         'Lavall': 1,\n",
       "         'Brent': 6,\n",
       "         'Means': 1,\n",
       "         'Bruce': 7,\n",
       "         'Steward': 1,\n",
       "         'Lawrence': 5,\n",
       "         'Caldwell': 2,\n",
       "         'K.': 4,\n",
       "         'Casper': 1,\n",
       "         'Evans': 8,\n",
       "         'Betty': 1,\n",
       "         'Sexton': 2,\n",
       "         'Ireland': 1,\n",
       "         'Lundy': 1,\n",
       "         'Douglas': 11,\n",
       "         'Sparks': 1,\n",
       "         'Pedro': 4,\n",
       "         'Juan': 12,\n",
       "         'Saldivar': 1,\n",
       "         'Janisha': 1,\n",
       "         'Fonville': 1,\n",
       "         'Ruben': 6,\n",
       "         'Villalpando': 1,\n",
       "         'Stanley': 4,\n",
       "         'Lamar': 4,\n",
       "         'Grant': 4,\n",
       "         'Harris': 11,\n",
       "         'Moncrief': 1,\n",
       "         'Kent': 2,\n",
       "         'Norman': 4,\n",
       "         'Bradford': 1,\n",
       "         'Leonard': 2,\n",
       "         'Jerome': 5,\n",
       "         'Elrod': 1,\n",
       "         'Kohl': 1,\n",
       "         'Wayne': 10,\n",
       "         'Smashey': 1,\n",
       "         'Giaquinta': 1,\n",
       "         \"A'Donte\": 1,\n",
       "         'Washington': 6,\n",
       "         'Biegert': 1,\n",
       "         'Glenn': 4,\n",
       "         'Spivey': 1,\n",
       "         'Alexander': 13,\n",
       "         'Long': 6,\n",
       "         'Cuevas': 1,\n",
       "         'Amilcar': 1,\n",
       "         'Perez-Lopez': 1,\n",
       "         'Rodney': 9,\n",
       "         'Biggs': 2,\n",
       "         'Crystal': 1,\n",
       "         'Miley': 1,\n",
       "         'Harry': 2,\n",
       "         'Ernesto': 3,\n",
       "         'Javiar': 1,\n",
       "         'Canepa': 1,\n",
       "         'Diaz': 5,\n",
       "         'Chazsten': 1,\n",
       "         'Freeman': 1,\n",
       "         'Deven': 1,\n",
       "         'Guilford': 1,\n",
       "         'Jessica': 2,\n",
       "         'Uribe': 1,\n",
       "         'Cornelius': 2,\n",
       "         'J.': 30,\n",
       "         'Parker': 4,\n",
       "         'Ian': 2,\n",
       "         'Sherrod': 1,\n",
       "         'Stephanie': 1,\n",
       "         'Donald': 9,\n",
       "         'Matkins': 1,\n",
       "         'Charly': 1,\n",
       "         'Leundeu': 1,\n",
       "         'Keunang': 1,\n",
       "         'Hung': 1,\n",
       "         'Trieu': 1,\n",
       "         'Shaquille': 1,\n",
       "         'Barrow': 1,\n",
       "         'Fednel': 1,\n",
       "         'Rhinvil': 1,\n",
       "         'Metz': 1,\n",
       "         'Derek': 9,\n",
       "         'Cruice': 1,\n",
       "         'Carl': 4,\n",
       "         'Lao': 1,\n",
       "         'Tyrone': 5,\n",
       "         'Ryerson': 1,\n",
       "         'Sergio': 6,\n",
       "         'Navas': 1,\n",
       "         'Tyson': 2,\n",
       "         'Hubbard': 1,\n",
       "         'Naeschylus': 1,\n",
       "         'Vinzant': 1,\n",
       "         'Tony': 2,\n",
       "         'Adam': 6,\n",
       "         'Reinhart': 1,\n",
       "         'Aurelio': 1,\n",
       "         'Duarte': 1,\n",
       "         'McKillop': 1,\n",
       "         'Monique': 1,\n",
       "         'Jenee': 1,\n",
       "         'Deckard': 1,\n",
       "         'Lester': 1,\n",
       "         'Cedrick': 1,\n",
       "         'Lamont': 7,\n",
       "         'Bishop': 1,\n",
       "         'Jamie': 5,\n",
       "         'Croom': 1,\n",
       "         'Christopher': 35,\n",
       "         'Mitchell': 3,\n",
       "         'Edixon': 1,\n",
       "         'Franco': 2,\n",
       "         'Theodore': 1,\n",
       "         'Greenwell': 1,\n",
       "         'Benito': 1,\n",
       "         'Osorio': 1,\n",
       "         'Dean': 8,\n",
       "         'Burgess': 4,\n",
       "         'Aaron': 8,\n",
       "         'Valdez': 3,\n",
       "         'Gilbert': 4,\n",
       "         'Fleury': 1,\n",
       "         'William': 40,\n",
       "         'Russell': 5,\n",
       "         'Garnett': 1,\n",
       "         'Bobby': 7,\n",
       "         'Gross': 1,\n",
       "         'Fred': 4,\n",
       "         'Liggett': 1,\n",
       "         'Driver': 1,\n",
       "         'Perez': 7,\n",
       "         'Jimenez': 2,\n",
       "         'Castilleja': 1,\n",
       "         'Clifton': 2,\n",
       "         'Reintzel': 1,\n",
       "         'Siler': 1,\n",
       "         'Troy': 2,\n",
       "         'Boyd': 3,\n",
       "         'Justin': 9,\n",
       "         'Tolkinen': 1,\n",
       "         'Poole': 1,\n",
       "         'Roberto': 3,\n",
       "         'Leon': 4,\n",
       "         'Charles': 23,\n",
       "         'Shipley': 1,\n",
       "         'Declan': 1,\n",
       "         'Owen': 1,\n",
       "         'Alice': 1,\n",
       "         'Jeff': 5,\n",
       "         'Kaylene': 1,\n",
       "         'Stone': 1,\n",
       "         'Garland': 2,\n",
       "         'Wingo': 1,\n",
       "         'Kendre': 1,\n",
       "         'Alston': 1,\n",
       "         'Jamison': 2,\n",
       "         'Childress': 2,\n",
       "         'Burdge': 1,\n",
       "         'Shane': 7,\n",
       "         'Brandon': 19,\n",
       "         'Jones': 12,\n",
       "         'Rapp': 1,\n",
       "         'Fowler': 1,\n",
       "         'White': 5,\n",
       "         'Tyrel': 1,\n",
       "         'Vick': 1,\n",
       "         'Ellis': 2,\n",
       "         'Gary': 10,\n",
       "         'Page': 2,\n",
       "         'Enoch': 1,\n",
       "         'Gaver': 1,\n",
       "         'Conley': 1,\n",
       "         'Healy': 1,\n",
       "         'Denzel': 1,\n",
       "         'Devin': 5,\n",
       "         'Gates': 2,\n",
       "         'Stephen': 10,\n",
       "         'Snyder': 2,\n",
       "         'Walter': 4,\n",
       "         'Dunham': 1,\n",
       "         'Lorenza': 1,\n",
       "         'Kelly': 1,\n",
       "         'Terrazas': 1,\n",
       "         'Tassinari': 1,\n",
       "         'Deanne': 1,\n",
       "         'Choate': 1,\n",
       "         'Adrian': 4,\n",
       "         'Solis': 1,\n",
       "         'Kendrick': 1,\n",
       "         'Jamalis': 1,\n",
       "         'Neil': 3,\n",
       "         'Seifert': 1,\n",
       "         'Megan': 1,\n",
       "         'Hockaday': 1,\n",
       "         'Harvey': 1,\n",
       "         'Oates': 1,\n",
       "         'Angelo': 3,\n",
       "         'West': 3,\n",
       "         'Rooker': 1,\n",
       "         'Byron': 1,\n",
       "         'Babb': 1,\n",
       "         'Anderson': 12,\n",
       "         'Benjamin': 5,\n",
       "         'Quezada': 2,\n",
       "         'Mya': 1,\n",
       "         'Shawn': 6,\n",
       "         'Clyde': 3,\n",
       "         'Darrin': 3,\n",
       "         'Langford': 1,\n",
       "         'Hicks': 5,\n",
       "         'Eric': 16,\n",
       "         'Rutledge': 1,\n",
       "         'Prevatt': 1,\n",
       "         'Justus': 1,\n",
       "         'Howell': 1,\n",
       "         'Ethan': 3,\n",
       "         'Noll': 1,\n",
       "         'Ken': 1,\n",
       "         'Cockerel': 1,\n",
       "         'Hanna': 1,\n",
       "         'Myers': 2,\n",
       "         'Tyrell': 1,\n",
       "         'Larsen': 1,\n",
       "         'Erick': 2,\n",
       "         'Faith': 1,\n",
       "         'Dexter': 2,\n",
       "         'Pernell': 1,\n",
       "         'Bethea': 1,\n",
       "         'Weber': 2,\n",
       "         'Gordon': 2,\n",
       "         'Kimbrell': 1,\n",
       "         'Don': 5,\n",
       "         'Jess': 1,\n",
       "         'Leipold': 1,\n",
       "         'Cresencio': 1,\n",
       "         'Corona': 1,\n",
       "         'Mack': 2,\n",
       "         'Dale': 4,\n",
       "         'Weaver': 1,\n",
       "         'Colby': 2,\n",
       "         'Finley': 1,\n",
       "         'Tevin': 1,\n",
       "         'Barkley': 1,\n",
       "         'Dante': 2,\n",
       "         'Noble': 2,\n",
       "         'Frank': 4,\n",
       "         'Shephard': 1,\n",
       "         'Mark': 20,\n",
       "         'W.': 3,\n",
       "         'Adair': 1,\n",
       "         'Watson': 3,\n",
       "         'Flores': 5,\n",
       "         'Rodolfo': 1,\n",
       "         'Velazquez': 1,\n",
       "         'Kemp': 1,\n",
       "         'Elias': 2,\n",
       "         'Cavazos': 1,\n",
       "         'Thaddeus': 2,\n",
       "         'McCarroll': 1,\n",
       "         'Erik': 3,\n",
       "         'Tellez': 1,\n",
       "         'Grover': 1,\n",
       "         'Foster': 2,\n",
       "         'Dana': 3,\n",
       "         'Hlavinka': 1,\n",
       "         'Santos': 2,\n",
       "         'Cortez': 2,\n",
       "         'Wolfe': 1,\n",
       "         'Covarrubias': 1,\n",
       "         'Kimber': 1,\n",
       "         'Key': 1,\n",
       "         'Luis': 7,\n",
       "         'Chapman': 1,\n",
       "         'Carlos': 12,\n",
       "         'Saavedra': 1,\n",
       "         'Ramirez': 6,\n",
       "         'Efraim': 1,\n",
       "         'Reginald': 3,\n",
       "         'McGregor': 1,\n",
       "         'Lue': 1,\n",
       "         'Vang': 1,\n",
       "         'Valadez': 1,\n",
       "         'Potts': 1,\n",
       "         'Hector': 5,\n",
       "         'Morejon': 1,\n",
       "         'Karen': 1,\n",
       "         'Janks': 1,\n",
       "         'Cecil': 1,\n",
       "         'Hawkins': 3,\n",
       "         'Timmie': 1,\n",
       "         'Collins': 3,\n",
       "         'Jamal': 5,\n",
       "         'Dye': 1,\n",
       "         'Felix': 2,\n",
       "         'Davis': 13,\n",
       "         'Billy': 5,\n",
       "         'Albert': 5,\n",
       "         'Hanson': 1,\n",
       "         'Genova': 1,\n",
       "         'Terrance': 1,\n",
       "         'Kellom': 1,\n",
       "         'Jared': 1,\n",
       "         'Green': 5,\n",
       "         'Deysie': 1,\n",
       "         'Chavez-Diaz': 1,\n",
       "         'Alexia': 1,\n",
       "         'Christian': 9,\n",
       "         'Adkins': 1,\n",
       "         'Acree': 1,\n",
       "         'Fridoon': 1,\n",
       "         'Zalbeg': 1,\n",
       "         'Nehad': 1,\n",
       "         'Emmanuel': 1,\n",
       "         'Sanchez': 7,\n",
       "         'Mathena': 1,\n",
       "         'Kevin': 16,\n",
       "         'Vance': 1,\n",
       "         'Norton': 2,\n",
       "         'Elton': 1,\n",
       "         'Nadir': 1,\n",
       "         'Soofi': 1,\n",
       "         'Grimm': 1,\n",
       "         'Asher': 1,\n",
       "         'Roark': 1,\n",
       "         'Cook': 2,\n",
       "         'Brendon': 1,\n",
       "         'Thong': 1,\n",
       "         'Kien': 1,\n",
       "         'Ma': 2,\n",
       "         'A.': 17,\n",
       "         'Frost': 1,\n",
       "         'Nephi': 2,\n",
       "         'Arriguin': 1,\n",
       "         'Shaun': 2,\n",
       "         'Schwalm': 1,\n",
       "         'Dedrick': 1,\n",
       "         'Sam': 3,\n",
       "         'Cunningham': 1,\n",
       "         'Lionel': 4,\n",
       "         'Lorenzo': 4,\n",
       "         'Young': 4,\n",
       "         'Kelvin': 1,\n",
       "         'Goldston': 1,\n",
       "         'Way': 1,\n",
       "         \"D'Angelo\": 1,\n",
       "         'Stallworth': 1,\n",
       "         'Zalonka': 1,\n",
       "         'Alec': 1,\n",
       "         'Ouzounian': 1,\n",
       "         'Sean': 6,\n",
       "         'Pelletier': 1,\n",
       "         'Cary': 1,\n",
       "         'Farrar': 1,\n",
       "         'Matt': 2,\n",
       "         'Coates': 1,\n",
       "         'Ronell': 1,\n",
       "         'Wade': 3,\n",
       "         'Dennis': 8,\n",
       "         'Fiel': 1,\n",
       "         'Austin': 6,\n",
       "         'Goodner': 1,\n",
       "         'Timothy': 12,\n",
       "         'Alfredo': 1,\n",
       "         'Rials-Torres': 1,\n",
       "         'McIntosh': 1,\n",
       "         'Gaines': 3,\n",
       "         'Gomez': 5,\n",
       "         'Colley': 1,\n",
       "         'Chrislon': 1,\n",
       "         'Talbott': 1,\n",
       "         'Nikki': 1,\n",
       "         'Jo': 2,\n",
       "         'Burtsfield': 1,\n",
       "         'Wheeler': 1,\n",
       "         'Alejandro': 5,\n",
       "         'Gandara': 1,\n",
       "         'Javoris': 1,\n",
       "         'Cooper': 1,\n",
       "         'Elvin': 1,\n",
       "         'Lowery': 1,\n",
       "         'Caso': 1,\n",
       "         'Horn': 1,\n",
       "         'Cassandra': 1,\n",
       "         'Bolin': 1,\n",
       "         'Briggs': 3,\n",
       "         'Millard': 2,\n",
       "         'Tallant': 1,\n",
       "         'Dalton': 2,\n",
       "         'Branch': 2,\n",
       "         'McAllister': 1,\n",
       "         'Garrett': 1,\n",
       "         'Sandeno': 1,\n",
       "         'Feras': 1,\n",
       "         'Morad': 1,\n",
       "         'Simon': 2,\n",
       "         'Hubble': 1,\n",
       "         'Darrell': 3,\n",
       "         'Morgan': 5,\n",
       "         'Strong': 1,\n",
       "         'Dothard': 1,\n",
       "         'Kyle': 8,\n",
       "         'Baker': 6,\n",
       "         'Nehemiah': 1,\n",
       "         'Fischer': 2,\n",
       "         'Box': 1,\n",
       "         'Ebin': 1,\n",
       "         'Proctor': 1,\n",
       "         'Tirado': 1,\n",
       "         'Rivera': 3,\n",
       "         'Bushey': 1,\n",
       "         'Ladd': 1,\n",
       "         'Usaamah': 1,\n",
       "         'Rahim': 1,\n",
       "         'Kamal': 1,\n",
       "         'Dajani': 1,\n",
       "         'Garza': 3,\n",
       "         'Rudy': 1,\n",
       "         'Baca': 1,\n",
       "         'Edelmiro': 1,\n",
       "         'Ronald': 7,\n",
       "         'Neal': 1,\n",
       "         'Jesus': 6,\n",
       "         'Christie': 1,\n",
       "         'Cathers': 1,\n",
       "         'Demouria': 1,\n",
       "         'Hogg': 1,\n",
       "         'Smillie': 1,\n",
       "         'Campos': 1,\n",
       "         'Fernandez': 2,\n",
       "         'Nevels': 1,\n",
       "         'Damien': 2,\n",
       "         'McDaniel': 2,\n",
       "         'Gene': 5,\n",
       "         'Rene': 4,\n",
       "         'Warolf': 1,\n",
       "         'Linhart': 1,\n",
       "         'Greg': 2,\n",
       "         'Hartley': 1,\n",
       "         'QuanDavier': 1,\n",
       "         'Bolinger': 1,\n",
       "         'Isiah': 1,\n",
       "         'Hampton': 1,\n",
       "         'Ziegler': 1,\n",
       "         'Fritz': 1,\n",
       "         'Severe': 1,\n",
       "         'Peralta-Lantigua': 1,\n",
       "         'Shelly': 2,\n",
       "         'Haendiges': 1,\n",
       "         'Deng': 1,\n",
       "         'Manyoun': 1,\n",
       "         'Boulware': 1,\n",
       "         'Zane': 1,\n",
       "         'Terryn': 1,\n",
       "         'Kris': 2,\n",
       "         'DeLeon': 1,\n",
       "         'Charboneau': 1,\n",
       "         'Wendy': 1,\n",
       "         'Chappell': 1,\n",
       "         'Lanphier': 1,\n",
       "         'Oleg': 1,\n",
       "         'Tcherniak': 1,\n",
       "         'Laboy': 1,\n",
       "         'Trepierre': 1,\n",
       "         'Hummons': 1,\n",
       "         'Louis': 3,\n",
       "         'Atencio': 1,\n",
       "         'Alfontish': 1,\n",
       "         'Cockerham': 1,\n",
       "         'Simental': 1,\n",
       "         'Monroe': 1,\n",
       "         'Barrett': 1,\n",
       "         'Eduardo': 3,\n",
       "         'Tyler': 10,\n",
       "         'Wicks': 1,\n",
       "         'Dyer': 1,\n",
       "         'Wilson': 9,\n",
       "         'Randall': 4,\n",
       "         'Waddel': 1,\n",
       "         'Taylor': 7,\n",
       "         'Culbertson': 1,\n",
       "         'Harrell': 1,\n",
       "         'Spencer': 4,\n",
       "         'McCain': 1,\n",
       "         'Jake': 2,\n",
       "         'Vanderburgh': 1,\n",
       "         'Cisneros': 2,\n",
       "         'Crittenden': 1,\n",
       "         'Bellew': 1,\n",
       "         'LaPort': 1,\n",
       "         'Clay': 2,\n",
       "         'Lickteig': 1,\n",
       "         'Judson': 1,\n",
       "         'Kaleb': 2,\n",
       "         'Landon': 2,\n",
       "         'Buckley': 1,\n",
       "         'Ton': 1,\n",
       "         'Nguyen': 1,\n",
       "         'Emanuel': 1,\n",
       "         'Larosa': 1,\n",
       "         'Cesar': 4,\n",
       "         'Limon': 1,\n",
       "         'Juarez': 4,\n",
       "         'Arturo': 3,\n",
       "         'Oscar': 4,\n",
       "         'Camacho': 1,\n",
       "         'Elando': 1,\n",
       "         'Malone': 2,\n",
       "         'Shannon': 3,\n",
       "         'Gaby': 1,\n",
       "         'Kawanza': 1,\n",
       "         'Beaty': 2,\n",
       "         'Bryan': 5,\n",
       "         'Bauer': 2,\n",
       "         'Deming': 1,\n",
       "         'Holt': 2,\n",
       "         'Munroe': 1,\n",
       "         'Johnny': 3,\n",
       "         'Rogers': 5,\n",
       "         'Hagen': 1,\n",
       "         'Esty-Lennon': 1,\n",
       "         'Oliva': 1,\n",
       "         'Sarabia': 1,\n",
       "         'Berry': 2,\n",
       "         'Hendley': 1,\n",
       "         'Marcellus': 2,\n",
       "         'Jamarcus': 1,\n",
       "         'Burley': 1,\n",
       "         'Dujanovic': 1,\n",
       "         'Graciano': 1,\n",
       "         'Tremaine': 1,\n",
       "         'Dantzler': 1,\n",
       "         'Booth': 1,\n",
       "         'Blough': 1,\n",
       "         'Westrich': 1,\n",
       "         'Dallas': 1,\n",
       "         'Shatley': 1,\n",
       "         'Rocco': 1,\n",
       "         'Palmisano': 1,\n",
       "         'Hammonds': 1,\n",
       "         'Martice': 1,\n",
       "         'Milliner': 1,\n",
       "         'Cyrus': 1,\n",
       "         'Hurtado': 2,\n",
       "         'Javon': 1,\n",
       "         'Todora': 1,\n",
       "         'Freddie': 1,\n",
       "         'Blue': 1,\n",
       "         'McSwain': 1,\n",
       "         'Maine': 1,\n",
       "         'Castaway': 1,\n",
       "         'Salvado': 1,\n",
       "         'Ellswood': 1,\n",
       "         'Lepine': 1,\n",
       "         'Benton': 1,\n",
       "         'Frederick': 4,\n",
       "         'Farmer': 1,\n",
       "         'Graham': 3,\n",
       "         'Rafael': 3,\n",
       "         'Suazo': 1,\n",
       "         'Chacarion': 1,\n",
       "         'Avant': 1,\n",
       "         'Kailing': 1,\n",
       "         'Anthonie': 1,\n",
       "         'Gonzalez': 10,\n",
       "         'Pippin': 1,\n",
       "         'Mohammad': 4,\n",
       "         'Youssef': 1,\n",
       "         'Abdulazeez': 1,\n",
       "         'Saige': 1,\n",
       "         'Hack': 1,\n",
       "         'Pierre': 2,\n",
       "         'Gabriel': 3,\n",
       "         'Koellner': 1,\n",
       "         'Samuel': 5,\n",
       "         'Jackie': 2,\n",
       "         'Brand': 1,\n",
       "         'Darrius': 1,\n",
       "         'Roman': 2,\n",
       "         'Wheat': 1,\n",
       "         'Dewey': 1,\n",
       "         'DuBose': 1,\n",
       "         'LeBoeuf': 1,\n",
       "         'Darren': 4,\n",
       "         'Fuller': 2,\n",
       "         'Jerrod': 2,\n",
       "         'Tyre': 3,\n",
       "         'Francisco': 6,\n",
       "         'Benitez-Santiago': 1,\n",
       "         'Andre': 3,\n",
       "         'Dontrell': 2,\n",
       "         'Devon': 2,\n",
       "         'Guisherd': 1,\n",
       "         'Dontae': 1,\n",
       "         'L.': 14,\n",
       "         'Wolfsteller': 1,\n",
       "         'Stortzum': 1,\n",
       "         'Robbie': 1,\n",
       "         'Edison': 1,\n",
       "         'Tamala': 1,\n",
       "         'Satre': 1,\n",
       "         'Seth': 1,\n",
       "         'Raines': 1,\n",
       "         'Gerston': 1,\n",
       "         'Olmstead': 1,\n",
       "         'Roger': 5,\n",
       "         'Braswell': 1,\n",
       "         'Keith': 14,\n",
       "         'Khari': 1,\n",
       "         'Westly': 1,\n",
       "         'Zachary': 2,\n",
       "         'Hammond': 1,\n",
       "         'Milliken': 1,\n",
       "         'Jean': 3,\n",
       "         'Falgout': 1,\n",
       "         'Forgy': 1,\n",
       "         'Perkins': 4,\n",
       "         'Vrenon': 1,\n",
       "         'Philip': 5,\n",
       "         'Vallejo': 2,\n",
       "         'Lotari': 1,\n",
       "         'Romero': 2,\n",
       "         'Molina': 1,\n",
       "         'Hatch': 1,\n",
       "         'Armando': 4,\n",
       "         'Serrano': 1,\n",
       "         'Virgil': 1,\n",
       "         'Reynolds': 2,\n",
       "         'Clements': 1,\n",
       "         'Malave': 1,\n",
       "         'Franklin': 1,\n",
       "         'Short': 1,\n",
       "         'Ruble': 1,\n",
       "         'Avila': 1,\n",
       "         'Darius': 4,\n",
       "         'Graves': 1,\n",
       "         'Dattilo': 1,\n",
       "         'Dieringer': 1,\n",
       "         'Keshawn': 1,\n",
       "         'Dominique': 2,\n",
       "         'Hargrove': 1,\n",
       "         'Vincente': 1,\n",
       "         'Montano': 2,\n",
       "         'Galaviz': 1,\n",
       "         'Gustavo': 2,\n",
       "         'Ponce-Galon': 1,\n",
       "         'Bertram': 1,\n",
       "         'Abel': 1,\n",
       "         'Correa': 1,\n",
       "         'Marchese': 1,\n",
       "         'Keckhafer': 1,\n",
       "         'Tsombe': 1,\n",
       "         'Clark': 9,\n",
       "         'Derrick': 2,\n",
       "         'Hunt': 1,\n",
       "         'Shamir': 1,\n",
       "         'Terrel': 1,\n",
       "         'Palmer': 2,\n",
       "         'Wilkes': 1,\n",
       "         'Tompkins': 2,\n",
       "         'Edrian': 1,\n",
       "         'Casey': 3,\n",
       "         'George': 9,\n",
       "         'Alarcon': 1,\n",
       "         'Hughes': 1,\n",
       "         'Shull': 1,\n",
       "         'Nathaniel': 4,\n",
       "         'Wilks': 1,\n",
       "         'Redel': 1,\n",
       "         'Tyree': 2,\n",
       "         'Sorriano': 1,\n",
       "         'Asshams': 1,\n",
       "         'Pharoah': 1,\n",
       "         'Manley': 1,\n",
       "         'Unsworth': 1,\n",
       "         'Jonathon': 1,\n",
       "         'Pope': 1,\n",
       "         'Castillo': 1,\n",
       "         'Steven': 13,\n",
       "         'B.': 5,\n",
       "         'Jacquez': 1,\n",
       "         'Mansur': 1,\n",
       "         'Ball-Bey': 1,\n",
       "         'Deviere': 1,\n",
       "         'Ernel': 1,\n",
       "         'Ransom': 1,\n",
       "         'Hale': 2,\n",
       "         'Gerken': 1,\n",
       "         'Jeffory': 1,\n",
       "         'Tevis': 1,\n",
       "         'Raul': 3,\n",
       "         'Herrera': 4,\n",
       "         'Timmy': 1,\n",
       "         'Walling': 1,\n",
       "         'S.': 6,\n",
       "         'Rushton': 1,\n",
       "         'Schneider': 1,\n",
       "         'Faison': 2,\n",
       "         'Alderman': 1,\n",
       "         'Garner': 1,\n",
       "         'Henry': 10,\n",
       "         'Compo': 1,\n",
       "         'Troledge': 1,\n",
       "         'Norris': 2,\n",
       "         'Snider': 1,\n",
       "         'Marvin': 4,\n",
       "         'Maestas': 1,\n",
       "         'Curtis': 4,\n",
       "         'Tomlinson': 1,\n",
       "         'Rudolph': 2,\n",
       "         'Arroliga': 1,\n",
       "         'Dodd': 1,\n",
       "         'Pickard': 1,\n",
       "         'Lambrose': 1,\n",
       "         'Bertrand': 1,\n",
       "         'Yonas': 1,\n",
       "         'Alehegne': 1,\n",
       "         'Hober': 1,\n",
       "         'Soriano': 1,\n",
       "         'Kumi': 1,\n",
       "         'Dial': 2,\n",
       "         'Cruz': 5,\n",
       "         'Jr': 3,\n",
       "         'M.': 16,\n",
       "         'Rippley': 1,\n",
       "         'Cedric': 4,\n",
       "         'Maurice': 2,\n",
       "         'Shaw': 1,\n",
       "         'Arthur': 5,\n",
       "         'Bates': 1,\n",
       "         'Freddy': 2,\n",
       "         'Centeno': 1,\n",
       "         'Meyer': 2,\n",
       "         'Ramon': 5,\n",
       "         'Damiani': 1,\n",
       "         'Kelley': 3,\n",
       "         'Sully': 1,\n",
       "         'Lanier': 1,\n",
       "         'Harrison': 2,\n",
       "         'Lambert': 4,\n",
       "         \"La'vante\": 1,\n",
       "         'Trevon': 2,\n",
       "         'Wenceslao': 1,\n",
       "         'Delano': 1,\n",
       "         'Perry': 5,\n",
       "         'India': 2,\n",
       "         'Kager': 1,\n",
       "         'Yero': 1,\n",
       "         'Mohamed': 2,\n",
       "         'Ibrahim': 1,\n",
       "         'Verrett': 1,\n",
       "         'Casimero': 1,\n",
       "         'Casillas': 1,\n",
       "         'Tristan': 3,\n",
       "         'Vent': 1,\n",
       "         'Dustin': 2,\n",
       "         'Kuik': 1,\n",
       "         'Holman': 1,\n",
       "         'Perdue': 1,\n",
       "         'Chau': 1,\n",
       "         'Tian': 1,\n",
       "         'Foy': 1,\n",
       "         'Wilburly': 1,\n",
       "         'Reid': 2,\n",
       "         'Eddie': 4,\n",
       "         'Tapia': 2,\n",
       "         'T.': 5,\n",
       "         'Pfleghardt': 1,\n",
       "         'Derick': 1,\n",
       "         'Jack': 4,\n",
       "         'Stevens': 2,\n",
       "         'Hammen': 1,\n",
       "         ...})"
      ]
     },
     "execution_count": 48,
     "metadata": {},
     "output_type": "execute_result"
    }
   ],
   "source": [
    "from collections import Counter\n",
    "most_common_names = Counter(table)\n",
    "most_common_names"
   ]
  },
  {
   "cell_type": "code",
   "execution_count": 49,
   "metadata": {
    "colab": {
     "base_uri": "https://localhost:8080/"
    },
    "id": "GBoBhIEs-G-Y",
    "outputId": "0a3113d8-7a32-4fc5-87b5-34b613d5868f"
   },
   "outputs": [
    {
     "data": {
      "text/plain": [
       "[('Michael', 82),\n",
       " ('David', 53),\n",
       " ('James', 47),\n",
       " ('Robert', 44),\n",
       " ('Joseph', 43),\n",
       " ('Daniel', 40),\n",
       " ('William', 40),\n",
       " ('Lee', 37),\n",
       " ('John', 36),\n",
       " ('Christopher', 35),\n",
       " ('Richard', 33),\n",
       " ('Smith', 31),\n",
       " ('J.', 30),\n",
       " ('Johnson', 29),\n",
       " ('Joshua', 27)]"
      ]
     },
     "execution_count": 49,
     "metadata": {},
     "output_type": "execute_result"
    }
   ],
   "source": [
    "most_common_names = most_common_names.most_common(15)\n",
    "most_common_names"
   ]
  },
  {
   "cell_type": "code",
   "execution_count": 50,
   "metadata": {
    "colab": {
     "base_uri": "https://localhost:8080/",
     "height": 511
    },
    "id": "yJ6vg449-G-Y",
    "outputId": "5179e2e5-dd50-4b0b-fa74-f5d806169dce"
   },
   "outputs": [
    {
     "data": {
      "text/html": [
       "<div>\n",
       "<style scoped>\n",
       "    .dataframe tbody tr th:only-of-type {\n",
       "        vertical-align: middle;\n",
       "    }\n",
       "\n",
       "    .dataframe tbody tr th {\n",
       "        vertical-align: top;\n",
       "    }\n",
       "\n",
       "    .dataframe thead th {\n",
       "        text-align: right;\n",
       "    }\n",
       "</style>\n",
       "<table border=\"1\" class=\"dataframe\">\n",
       "  <thead>\n",
       "    <tr style=\"text-align: right;\">\n",
       "      <th></th>\n",
       "      <th>name_or_surname_most_frequency</th>\n",
       "      <th>frequency</th>\n",
       "    </tr>\n",
       "  </thead>\n",
       "  <tbody>\n",
       "    <tr>\n",
       "      <th>0</th>\n",
       "      <td>Michael</td>\n",
       "      <td>82</td>\n",
       "    </tr>\n",
       "    <tr>\n",
       "      <th>1</th>\n",
       "      <td>David</td>\n",
       "      <td>53</td>\n",
       "    </tr>\n",
       "    <tr>\n",
       "      <th>2</th>\n",
       "      <td>James</td>\n",
       "      <td>47</td>\n",
       "    </tr>\n",
       "    <tr>\n",
       "      <th>3</th>\n",
       "      <td>Robert</td>\n",
       "      <td>44</td>\n",
       "    </tr>\n",
       "    <tr>\n",
       "      <th>4</th>\n",
       "      <td>Joseph</td>\n",
       "      <td>43</td>\n",
       "    </tr>\n",
       "    <tr>\n",
       "      <th>5</th>\n",
       "      <td>Daniel</td>\n",
       "      <td>40</td>\n",
       "    </tr>\n",
       "    <tr>\n",
       "      <th>6</th>\n",
       "      <td>William</td>\n",
       "      <td>40</td>\n",
       "    </tr>\n",
       "    <tr>\n",
       "      <th>7</th>\n",
       "      <td>Lee</td>\n",
       "      <td>37</td>\n",
       "    </tr>\n",
       "    <tr>\n",
       "      <th>8</th>\n",
       "      <td>John</td>\n",
       "      <td>36</td>\n",
       "    </tr>\n",
       "    <tr>\n",
       "      <th>9</th>\n",
       "      <td>Christopher</td>\n",
       "      <td>35</td>\n",
       "    </tr>\n",
       "    <tr>\n",
       "      <th>10</th>\n",
       "      <td>Richard</td>\n",
       "      <td>33</td>\n",
       "    </tr>\n",
       "    <tr>\n",
       "      <th>11</th>\n",
       "      <td>Smith</td>\n",
       "      <td>31</td>\n",
       "    </tr>\n",
       "    <tr>\n",
       "      <th>12</th>\n",
       "      <td>J.</td>\n",
       "      <td>30</td>\n",
       "    </tr>\n",
       "    <tr>\n",
       "      <th>13</th>\n",
       "      <td>Johnson</td>\n",
       "      <td>29</td>\n",
       "    </tr>\n",
       "    <tr>\n",
       "      <th>14</th>\n",
       "      <td>Joshua</td>\n",
       "      <td>27</td>\n",
       "    </tr>\n",
       "  </tbody>\n",
       "</table>\n",
       "</div>"
      ],
      "text/plain": [
       "   name_or_surname_most_frequency  frequency\n",
       "0                         Michael         82\n",
       "1                           David         53\n",
       "2                           James         47\n",
       "3                          Robert         44\n",
       "4                          Joseph         43\n",
       "5                          Daniel         40\n",
       "6                         William         40\n",
       "7                             Lee         37\n",
       "8                            John         36\n",
       "9                     Christopher         35\n",
       "10                        Richard         33\n",
       "11                          Smith         31\n",
       "12                             J.         30\n",
       "13                        Johnson         29\n",
       "14                         Joshua         27"
      ]
     },
     "execution_count": 50,
     "metadata": {},
     "output_type": "execute_result"
    }
   ],
   "source": [
    "df = pd.DataFrame(list(most_common_names), columns=[\"name_or_surname_most_frequency\", \"frequency\"])\n",
    "df"
   ]
  },
  {
   "cell_type": "code",
   "execution_count": 67,
   "metadata": {
    "colab": {
     "base_uri": "https://localhost:8080/",
     "height": 551
    },
    "id": "JnbSBMEF-G-Y",
    "outputId": "93d7594d-c443-48e5-fbad-7421e77984cb"
   },
   "outputs": [
    {
     "data": {
      "image/png": "[encoded data removed]",
      "text/plain": [
       "<Figure size 1080x576 with 1 Axes>"
      ]
     },
     "metadata": {
      "needs_background": "light"
     },
     "output_type": "display_data"
    }
   ],
   "source": [
    "# with pandas\n",
    "\n",
    "fig, ax = plt.subplots(figsize=(15,8))\n",
    "df.plot(rot=45, kind='bar', ax=ax)\n",
    "\n",
    "ax.set_ylabel(\"Frequency\")\n",
    "ax.set_xlabel(\"First Names\")\n",
    "ax.set_title(\"The Most Common 15 First Names of Killed People\")\n",
    "\n",
    "ax.set_xticklabels(df.name_or_surname_most_frequency, rotation=45)\n",
    "\n",
    "for p in ax.patches:\n",
    "    ax.annotate((p.get_height()), (p.get_x()+0.2, p.get_height()+0.5));"
   ]
  },
  {
   "cell_type": "code",
   "execution_count": 68,
   "metadata": {
    "colab": {
     "base_uri": "https://localhost:8080/",
     "height": 551
    },
    "id": "MPq2DiUJ-G-Y",
    "outputId": "2b93c836-6e45-411e-c3f6-6e19f69b143b"
   },
   "outputs": [
    {
     "data": {
      "image/png": "[encoded data removed]",
      "text/plain": [
       "<Figure size 1080x576 with 1 Axes>"
      ]
     },
     "metadata": {
      "needs_background": "light"
     },
     "output_type": "display_data"
    }
   ],
   "source": [
    "# with matplotlib\n",
    "\n",
    "fig, ax = plt.subplots(figsize=(15, 8))\n",
    "ax.bar(x=df.name_or_surname_most_frequency, height=df.frequency)\n",
    "\n",
    "ax.set_ylabel(\"Frequency\")\n",
    "ax.set_xlabel(\"First Names\")\n",
    "ax.set_title(\"The Most Common 15 First Names of Killed People\")\n",
    "\n",
    "ax.set_xticklabels(df.name_or_surname_most_frequency, rotation=45)\n",
    "\n",
    "for p in ax.patches:\n",
    "    ax.annotate((p.get_height()), (p.get_x()+0.2, p.get_height()+0.5));"
   ]
  },
  {
   "cell_type": "code",
   "execution_count": 64,
   "metadata": {},
   "outputs": [
    {
     "name": "stdout",
     "output_type": "stream",
     "text": [
      "matplotlib: 3.4.2\n"
     ]
    },
    {
     "data": {
      "image/png": "[encoded data removed]",
      "text/plain": [
       "<Figure size 1080x576 with 1 Axes>"
      ]
     },
     "metadata": {
      "needs_background": "light"
     },
     "output_type": "display_data"
    }
   ],
   "source": [
    "# alternatif solution\n",
    "\n",
    "# As of matplotlib v3.4.2\n",
    "# Use matplotlib.pyplot.bar_label\n",
    "\n",
    "# To learn which version of matplotlib\n",
    "import matplotlib\n",
    "print('matplotlib: {}'.format(matplotlib.__version__))\n",
    "\n",
    "fig, ax = plt.subplots(figsize=(15, 8))\n",
    "ax.bar(x=df.name_or_surname_most_frequency, height=df.frequency)\n",
    "\n",
    "ax.set_ylabel(\"Frequency\")\n",
    "ax.set_xlabel(\"First OR Last Names\")\n",
    "ax.set_title(\"Most Common 15 First OR Last Name of Killed People\")\n",
    "\n",
    "ax.set_xticklabels(df.name_or_surname_most_frequency, rotation=45)\n",
    "\n",
    "for container in ax.containers:\n",
    "    ax.bar_label(container);"
   ]
  },
  {
   "cell_type": "markdown",
   "metadata": {
    "id": "glM-lXnxsDXx"
   },
   "source": [
    "**By Last Name**"
   ]
  },
  {
   "cell_type": "code",
   "execution_count": 54,
   "metadata": {
    "colab": {
     "base_uri": "https://localhost:8080/"
    },
    "id": "k9n2AFfJr9tH",
    "outputId": "11601b86-dc30-46c6-9fa5-998a0376e285"
   },
   "outputs": [
    {
     "data": {
      "text/plain": [
       "2253"
      ]
     },
     "execution_count": 54,
     "metadata": {},
     "output_type": "execute_result"
    }
   ],
   "source": [
    "table2=[]\n",
    "\n",
    "for i in pairs:\n",
    "    table2.append(i[-1])\n",
    "len(table2)"
   ]
  },
  {
   "cell_type": "code",
   "execution_count": 55,
   "metadata": {
    "colab": {
     "base_uri": "https://localhost:8080/"
    },
    "id": "fgCltUV6r9q7",
    "outputId": "c860faa0-7e49-4c3a-c971-4ac04d5cbbc8"
   },
   "outputs": [
    {
     "data": {
      "text/plain": [
       "1617"
      ]
     },
     "execution_count": 55,
     "metadata": {},
     "output_type": "execute_result"
    }
   ],
   "source": [
    "name= {}\n",
    "\n",
    "for i in table2:\n",
    "    if i in name:\n",
    "        name[i] += 1\n",
    "    else:\n",
    "        name[i] = 1\n",
    "len(name)"
   ]
  },
  {
   "cell_type": "code",
   "execution_count": 56,
   "metadata": {
    "colab": {
     "base_uri": "https://localhost:8080/"
    },
    "id": "0IpX2jT7r9ov",
    "outputId": "02a68608-0a30-49da-9540-f01e4c1089e0"
   },
   "outputs": [
    {
     "data": {
      "text/plain": [
       "[('Smith', 31),\n",
       " ('Johnson', 29),\n",
       " ('Jr.', 18),\n",
       " ('Williams', 16),\n",
       " ('Brown', 14),\n",
       " ('Hall', 13),\n",
       " ('Hernandez', 13),\n",
       " ('Rodriguez', 12),\n",
       " ('Jones', 12),\n",
       " ('Anderson', 12)]"
      ]
     },
     "execution_count": 56,
     "metadata": {},
     "output_type": "execute_result"
    }
   ],
   "source": [
    "sorted(name.items(), key=lambda x: x[1], reverse=True)[:10]"
   ]
  },
  {
   "cell_type": "code",
   "execution_count": 57,
   "metadata": {
    "colab": {
     "base_uri": "https://localhost:8080/",
     "height": 357
    },
    "id": "2W05nlrFr9lW",
    "outputId": "ede418ae-e381-4675-e48f-398226af902d"
   },
   "outputs": [
    {
     "data": {
      "text/html": [
       "<div>\n",
       "<style scoped>\n",
       "    .dataframe tbody tr th:only-of-type {\n",
       "        vertical-align: middle;\n",
       "    }\n",
       "\n",
       "    .dataframe tbody tr th {\n",
       "        vertical-align: top;\n",
       "    }\n",
       "\n",
       "    .dataframe thead th {\n",
       "        text-align: right;\n",
       "    }\n",
       "</style>\n",
       "<table border=\"1\" class=\"dataframe\">\n",
       "  <thead>\n",
       "    <tr style=\"text-align: right;\">\n",
       "      <th></th>\n",
       "      <th>name</th>\n",
       "      <th>val</th>\n",
       "    </tr>\n",
       "  </thead>\n",
       "  <tbody>\n",
       "    <tr>\n",
       "      <th>0</th>\n",
       "      <td>Smith</td>\n",
       "      <td>31</td>\n",
       "    </tr>\n",
       "    <tr>\n",
       "      <th>1</th>\n",
       "      <td>Johnson</td>\n",
       "      <td>29</td>\n",
       "    </tr>\n",
       "    <tr>\n",
       "      <th>2</th>\n",
       "      <td>Jr.</td>\n",
       "      <td>18</td>\n",
       "    </tr>\n",
       "    <tr>\n",
       "      <th>3</th>\n",
       "      <td>Williams</td>\n",
       "      <td>16</td>\n",
       "    </tr>\n",
       "    <tr>\n",
       "      <th>4</th>\n",
       "      <td>Brown</td>\n",
       "      <td>14</td>\n",
       "    </tr>\n",
       "    <tr>\n",
       "      <th>5</th>\n",
       "      <td>Hall</td>\n",
       "      <td>13</td>\n",
       "    </tr>\n",
       "    <tr>\n",
       "      <th>6</th>\n",
       "      <td>Hernandez</td>\n",
       "      <td>13</td>\n",
       "    </tr>\n",
       "    <tr>\n",
       "      <th>7</th>\n",
       "      <td>Rodriguez</td>\n",
       "      <td>12</td>\n",
       "    </tr>\n",
       "    <tr>\n",
       "      <th>8</th>\n",
       "      <td>Jones</td>\n",
       "      <td>12</td>\n",
       "    </tr>\n",
       "    <tr>\n",
       "      <th>9</th>\n",
       "      <td>Anderson</td>\n",
       "      <td>12</td>\n",
       "    </tr>\n",
       "  </tbody>\n",
       "</table>\n",
       "</div>"
      ],
      "text/plain": [
       "        name  val\n",
       "0      Smith   31\n",
       "1    Johnson   29\n",
       "2        Jr.   18\n",
       "3   Williams   16\n",
       "4      Brown   14\n",
       "5       Hall   13\n",
       "6  Hernandez   13\n",
       "7  Rodriguez   12\n",
       "8      Jones   12\n",
       "9   Anderson   12"
      ]
     },
     "execution_count": 57,
     "metadata": {},
     "output_type": "execute_result"
    }
   ],
   "source": [
    "df_name = pd.DataFrame(sorted(name.items(), key=lambda x: x[1], reverse=True)[:10],columns=[\"name\",\"val\"])\n",
    "df_name"
   ]
  },
  {
   "cell_type": "code",
   "execution_count": 66,
   "metadata": {
    "colab": {
     "base_uri": "https://localhost:8080/",
     "height": 548
    },
    "id": "KKEoxB-gr9io",
    "outputId": "5220a1ad-a6d5-42f5-9f71-253ba30907fd"
   },
   "outputs": [
    {
     "data": {
      "image/png": "[encoded data removed]",
      "text/plain": [
       "<Figure size 1080x576 with 1 Axes>"
      ]
     },
     "metadata": {
      "needs_background": "light"
     },
     "output_type": "display_data"
    }
   ],
   "source": [
    "# with matplotlib\n",
    "\n",
    "x = df_name.name\n",
    "y = df_name.val\n",
    "\n",
    "fig, ax = plt.subplots(figsize=(15, 8))\n",
    "ax.bar(x=x, height=y)\n",
    "\n",
    "ax.set_ylabel(\"Frequency\")\n",
    "ax.set_xlabel(\"Last Names\")\n",
    "ax.set_title(\"The Most Common 10 Last Names of Killed People\")\n",
    "ax.set_xticklabels(x, rotation=45)\n",
    "\n",
    "for p in ax.patches:\n",
    "    ax.annotate((p.get_height()), (p.get_x()+0.3, p.get_height()+0.5));"
   ]
  },
  {
   "cell_type": "code",
   "execution_count": 65,
   "metadata": {},
   "outputs": [
    {
     "data": {
      "image/png": "[encoded data removed]",
      "text/plain": [
       "<Figure size 1080x576 with 1 Axes>"
      ]
     },
     "metadata": {
      "needs_background": "light"
     },
     "output_type": "display_data"
    }
   ],
   "source": [
    "# alternatif solution\n",
    "\n",
    "# As of matplotlib v3.4.2\n",
    "# Use matplotlib.pyplot.bar_label\n",
    "\n",
    "x = df_name.name\n",
    "y = df_name.val\n",
    "\n",
    "fig, ax = plt.subplots(figsize=(15,8))\n",
    "ax.bar(x=x, height=y)\n",
    "\n",
    "ax.set_ylabel(\"Frequency\")\n",
    "ax.set_xlabel(\"Last Names\")\n",
    "ax.set_title(\"The Most Common 10 Last Names of Killed People\")\n",
    "ax.set_xticklabels(x, rotation=45)\n",
    "\n",
    "for container in ax.containers:\n",
    "    ax.bar_label(container);"
   ]
  },
  {
   "cell_type": "markdown",
   "metadata": {
    "id": "k4l3kjCdtPsY"
   },
   "source": [
    "## <p style=\"background-color:#9d4f8c; font-family:newtimeroman; color:#FFF9ED; font-size:150%; text-align:center; border-radius:10px 10px;\">END OF TASK</p>\n",
    "\n",
    "<a id=\"8\"></a>\n",
    "<a href=\"#toc\" class=\"btn btn-primary btn-sm\" role=\"button\" aria-pressed=\"true\" \n",
    "style=\"color:blue; background-color:#dfa8e4\" data-toggle=\"popover\">Content</a>"
   ]
  },
  {
   "cell_type": "markdown",
   "metadata": {},
   "source": [
    "<p style=\"text-align: center;\"><img src=\"https://docs.google.com/uc?id=1lY0Uj5R04yMY3-ZppPWxqCr5pvBLYPnV\" class=\"img-fluid\" \n",
    "alt=\"CLRSWY\"></p>\n",
    "\n",
    "## <p style=\"background-color:#FDFEFE; font-family:newtimeroman; color:#9d4f8c; font-size:100%; text-align:center; border-radius:10px 10px;\">WAY TO REINVENT YOURSELF</p>"
   ]
  }
 ],
 "metadata": {
  "colab": {
   "collapsed_sections": [
    "SZ-wps772Zi_",
    "9pGSRTxe-l5B"
   ],
   "name": "Assignment-1 solution.ipynb",
   "provenance": []
  },
  "kernelspec": {
   "display_name": "Python 3 (ipykernel)",
   "language": "python",
   "name": "python3"
  },
  "language_info": {
   "codemirror_mode": {
    "name": "ipython",
    "version": 3
   },
   "file_extension": ".py",
   "mimetype": "text/x-python",
   "name": "python",
   "nbconvert_exporter": "python",
   "pygments_lexer": "ipython3",
   "version": "3.10.9"
  }
 },
 "nbformat": 4,
 "nbformat_minor": 1
}
